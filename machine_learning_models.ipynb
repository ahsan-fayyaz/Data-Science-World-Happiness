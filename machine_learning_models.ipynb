{
 "cells": [
  {
   "cell_type": "markdown",
   "metadata": {},
   "source": [
    "# IMPORTS"
   ]
  },
  {
   "cell_type": "code",
   "execution_count": 1,
   "metadata": {},
   "outputs": [],
   "source": [
    "import pandas as pd\n",
    "import numpy as np\n",
    "import seaborn as sns\n",
    "import matplotlib.pyplot as plt\n",
    "%matplotlib inline\n",
    "import math\n",
    "import os\n",
    "\n",
    "\n",
    "# from sklearn.model_selection import train_test_split\n",
    "# from sklearn.linear_model import LogisticRegression\n",
    "# from sklearn.metrics import classification_report\n",
    "# from sklearn.metrics import confusion_matrix\n",
    "# from sklearn.datasets import load_iris\n",
    "# from sklearn import svm\n",
    "# from sklearn.neural_network import MLPClassifier\n",
    "# from sklearn.neighbors import KNeighborsClassifier\n",
    "\n",
    "import warnings\n",
    "warnings.filterwarnings('ignore')"
   ]
  },
  {
   "cell_type": "markdown",
   "metadata": {},
   "source": [
    "* * *"
   ]
  },
  {
   "cell_type": "markdown",
   "metadata": {},
   "source": [
    "# LOAD CLEANED DATASETS\n",
    "Let's read our cleaned files from `Datasets/Cleaned_Datasets` directory\n",
    "\n",
    "To learn more about how we cleaned the data, you may want to visit `data_cleaning.py` and `exploratory_data_analysis.ipynb`"
   ]
  },
  {
   "cell_type": "code",
   "execution_count": 2,
   "metadata": {
    "scrolled": true
   },
   "outputs": [
    {
     "data": {
      "text/html": [
       "<div>\n",
       "<style scoped>\n",
       "    .dataframe tbody tr th:only-of-type {\n",
       "        vertical-align: middle;\n",
       "    }\n",
       "\n",
       "    .dataframe tbody tr th {\n",
       "        vertical-align: top;\n",
       "    }\n",
       "\n",
       "    .dataframe thead th {\n",
       "        text-align: right;\n",
       "    }\n",
       "</style>\n",
       "<table border=\"1\" class=\"dataframe\">\n",
       "  <thead>\n",
       "    <tr style=\"text-align: right;\">\n",
       "      <th></th>\n",
       "      <th>country</th>\n",
       "      <th>happiness_score</th>\n",
       "      <th>gdp_per_capita</th>\n",
       "      <th>social_support</th>\n",
       "      <th>life_expectancy</th>\n",
       "      <th>freedom</th>\n",
       "      <th>generosity</th>\n",
       "      <th>corruption</th>\n",
       "    </tr>\n",
       "  </thead>\n",
       "  <tbody>\n",
       "    <tr>\n",
       "      <th>0</th>\n",
       "      <td>Afghanistan</td>\n",
       "      <td>3.594628</td>\n",
       "      <td>7.650843</td>\n",
       "      <td>0.508245</td>\n",
       "      <td>52.266667</td>\n",
       "      <td>0.518012</td>\n",
       "      <td>0.070041</td>\n",
       "      <td>0.843283</td>\n",
       "    </tr>\n",
       "    <tr>\n",
       "      <th>1</th>\n",
       "      <td>Albania</td>\n",
       "      <td>5.019427</td>\n",
       "      <td>9.384397</td>\n",
       "      <td>0.716316</td>\n",
       "      <td>67.546154</td>\n",
       "      <td>0.662830</td>\n",
       "      <td>-0.082628</td>\n",
       "      <td>0.869360</td>\n",
       "    </tr>\n",
       "    <tr>\n",
       "      <th>2</th>\n",
       "      <td>Algeria</td>\n",
       "      <td>5.389717</td>\n",
       "      <td>9.328897</td>\n",
       "      <td>0.803582</td>\n",
       "      <td>65.290000</td>\n",
       "      <td>0.519009</td>\n",
       "      <td>-0.144289</td>\n",
       "      <td>0.690871</td>\n",
       "    </tr>\n",
       "    <tr>\n",
       "      <th>3</th>\n",
       "      <td>Angola</td>\n",
       "      <td>4.420299</td>\n",
       "      <td>8.989725</td>\n",
       "      <td>0.737973</td>\n",
       "      <td>53.550000</td>\n",
       "      <td>0.455957</td>\n",
       "      <td>-0.088023</td>\n",
       "      <td>0.867018</td>\n",
       "    </tr>\n",
       "    <tr>\n",
       "      <th>4</th>\n",
       "      <td>Argentina</td>\n",
       "      <td>6.310166</td>\n",
       "      <td>10.033868</td>\n",
       "      <td>0.904423</td>\n",
       "      <td>67.900000</td>\n",
       "      <td>0.768254</td>\n",
       "      <td>-0.159684</td>\n",
       "      <td>0.841997</td>\n",
       "    </tr>\n",
       "  </tbody>\n",
       "</table>\n",
       "</div>"
      ],
      "text/plain": [
       "       country  happiness_score  gdp_per_capita  social_support  \\\n",
       "0  Afghanistan         3.594628        7.650843        0.508245   \n",
       "1      Albania         5.019427        9.384397        0.716316   \n",
       "2      Algeria         5.389717        9.328897        0.803582   \n",
       "3       Angola         4.420299        8.989725        0.737973   \n",
       "4    Argentina         6.310166       10.033868        0.904423   \n",
       "\n",
       "   life_expectancy   freedom  generosity  corruption  \n",
       "0        52.266667  0.518012    0.070041    0.843283  \n",
       "1        67.546154  0.662830   -0.082628    0.869360  \n",
       "2        65.290000  0.519009   -0.144289    0.690871  \n",
       "3        53.550000  0.455957   -0.088023    0.867018  \n",
       "4        67.900000  0.768254   -0.159684    0.841997  "
      ]
     },
     "execution_count": 2,
     "metadata": {},
     "output_type": "execute_result"
    }
   ],
   "source": [
    "# Use Pandas to read CSV files and store each dataframe into a variable\n",
    "world_happiness_df = pd.read_csv(\"./Datasets/Cleaned_Datasets/cleaned_world_happiness.csv\", header=0)\n",
    "covid_df = pd.read_csv(\"./Datasets/Cleaned_Datasets/cleaned_covid.csv\", header=0)\n",
    "clean_drinking_water_df = pd.read_csv(\"./Datasets/Cleaned_Datasets/cleaned_drinking_water_services.csv\", header=0)\n",
    "crude_suicide_rates_df = pd.read_csv(\"./Datasets/Cleaned_Datasets/cleaned_crude_suicide_rates.csv\", header=0)\n",
    "medical_doctors_df = pd.read_csv(\"./Datasets/Cleaned_Datasets/cleaned_medical_doctors.csv\", header=0)\n",
    "\n",
    "world_happiness_df.head(5)"
   ]
  },
  {
   "cell_type": "markdown",
   "metadata": {},
   "source": [
    "# Prepare a new dataset"
   ]
  },
  {
   "cell_type": "markdown",
   "metadata": {},
   "source": [
    "Make a new dataset that will combine `clean_drinking_water`, `crude_suicide_rates`, and `medical_doctors` as features into the `world_happiness_data`"
   ]
  },
  {
   "cell_type": "code",
   "execution_count": 3,
   "metadata": {},
   "outputs": [],
   "source": [
    "main_dataset = pd.merge(world_happiness_df, clean_drinking_water_df, how='inner', on=\"country\")\n",
    "main_dataset = pd.merge(main_dataset, crude_suicide_rates_df, how='inner', on=\"country\")\n",
    "main_dataset = pd.merge(main_dataset, medical_doctors_df, how='inner', on=\"country\")"
   ]
  },
  {
   "cell_type": "code",
   "execution_count": 4,
   "metadata": {},
   "outputs": [
    {
     "data": {
      "text/html": [
       "<div>\n",
       "<style scoped>\n",
       "    .dataframe tbody tr th:only-of-type {\n",
       "        vertical-align: middle;\n",
       "    }\n",
       "\n",
       "    .dataframe tbody tr th {\n",
       "        vertical-align: top;\n",
       "    }\n",
       "\n",
       "    .dataframe thead th {\n",
       "        text-align: right;\n",
       "    }\n",
       "</style>\n",
       "<table border=\"1\" class=\"dataframe\">\n",
       "  <thead>\n",
       "    <tr style=\"text-align: right;\">\n",
       "      <th></th>\n",
       "      <th>country</th>\n",
       "      <th>happiness_score</th>\n",
       "      <th>gdp_per_capita</th>\n",
       "      <th>social_support</th>\n",
       "      <th>life_expectancy</th>\n",
       "      <th>freedom</th>\n",
       "      <th>generosity</th>\n",
       "      <th>corruption</th>\n",
       "      <th>clean_water_per_100_people</th>\n",
       "      <th>suicide_rate_per_100000_people</th>\n",
       "      <th>doctors_per_10000_people</th>\n",
       "    </tr>\n",
       "  </thead>\n",
       "  <tbody>\n",
       "    <tr>\n",
       "      <th>0</th>\n",
       "      <td>Afghanistan</td>\n",
       "      <td>3.594628</td>\n",
       "      <td>7.650843</td>\n",
       "      <td>0.508245</td>\n",
       "      <td>52.266667</td>\n",
       "      <td>0.518012</td>\n",
       "      <td>0.070041</td>\n",
       "      <td>0.843283</td>\n",
       "      <td>37.755000</td>\n",
       "      <td>4.300000</td>\n",
       "      <td>2.322500</td>\n",
       "    </tr>\n",
       "    <tr>\n",
       "      <th>1</th>\n",
       "      <td>Albania</td>\n",
       "      <td>5.019427</td>\n",
       "      <td>9.384397</td>\n",
       "      <td>0.716316</td>\n",
       "      <td>67.546154</td>\n",
       "      <td>0.662830</td>\n",
       "      <td>-0.082628</td>\n",
       "      <td>0.869360</td>\n",
       "      <td>84.061667</td>\n",
       "      <td>5.193333</td>\n",
       "      <td>13.092727</td>\n",
       "    </tr>\n",
       "    <tr>\n",
       "      <th>2</th>\n",
       "      <td>Algeria</td>\n",
       "      <td>5.389717</td>\n",
       "      <td>9.328897</td>\n",
       "      <td>0.803582</td>\n",
       "      <td>65.290000</td>\n",
       "      <td>0.519009</td>\n",
       "      <td>-0.144289</td>\n",
       "      <td>0.690871</td>\n",
       "      <td>86.305000</td>\n",
       "      <td>2.880000</td>\n",
       "      <td>14.450000</td>\n",
       "    </tr>\n",
       "    <tr>\n",
       "      <th>3</th>\n",
       "      <td>Angola</td>\n",
       "      <td>4.420299</td>\n",
       "      <td>8.989725</td>\n",
       "      <td>0.737973</td>\n",
       "      <td>53.550000</td>\n",
       "      <td>0.455957</td>\n",
       "      <td>-0.088023</td>\n",
       "      <td>0.867018</td>\n",
       "      <td>24.313889</td>\n",
       "      <td>5.200000</td>\n",
       "      <td>1.167500</td>\n",
       "    </tr>\n",
       "    <tr>\n",
       "      <th>4</th>\n",
       "      <td>Argentina</td>\n",
       "      <td>6.310166</td>\n",
       "      <td>10.033868</td>\n",
       "      <td>0.904423</td>\n",
       "      <td>67.900000</td>\n",
       "      <td>0.768254</td>\n",
       "      <td>-0.159684</td>\n",
       "      <td>0.841997</td>\n",
       "      <td>87.365556</td>\n",
       "      <td>7.280000</td>\n",
       "      <td>34.327143</td>\n",
       "    </tr>\n",
       "  </tbody>\n",
       "</table>\n",
       "</div>"
      ],
      "text/plain": [
       "       country  happiness_score  gdp_per_capita  social_support  \\\n",
       "0  Afghanistan         3.594628        7.650843        0.508245   \n",
       "1      Albania         5.019427        9.384397        0.716316   \n",
       "2      Algeria         5.389717        9.328897        0.803582   \n",
       "3       Angola         4.420299        8.989725        0.737973   \n",
       "4    Argentina         6.310166       10.033868        0.904423   \n",
       "\n",
       "   life_expectancy   freedom  generosity  corruption  \\\n",
       "0        52.266667  0.518012    0.070041    0.843283   \n",
       "1        67.546154  0.662830   -0.082628    0.869360   \n",
       "2        65.290000  0.519009   -0.144289    0.690871   \n",
       "3        53.550000  0.455957   -0.088023    0.867018   \n",
       "4        67.900000  0.768254   -0.159684    0.841997   \n",
       "\n",
       "   clean_water_per_100_people  suicide_rate_per_100000_people  \\\n",
       "0                   37.755000                        4.300000   \n",
       "1                   84.061667                        5.193333   \n",
       "2                   86.305000                        2.880000   \n",
       "3                   24.313889                        5.200000   \n",
       "4                   87.365556                        7.280000   \n",
       "\n",
       "   doctors_per_10000_people  \n",
       "0                  2.322500  \n",
       "1                 13.092727  \n",
       "2                 14.450000  \n",
       "3                  1.167500  \n",
       "4                 34.327143  "
      ]
     },
     "execution_count": 4,
     "metadata": {},
     "output_type": "execute_result"
    }
   ],
   "source": [
    "main_dataset.head(5)"
   ]
  },
  {
   "cell_type": "code",
   "execution_count": 5,
   "metadata": {},
   "outputs": [
    {
     "name": "stdout",
     "output_type": "stream",
     "text": [
      "<class 'pandas.core.frame.DataFrame'>\n",
      "Int64Index: 135 entries, 0 to 134\n",
      "Data columns (total 11 columns):\n",
      "country                           135 non-null object\n",
      "happiness_score                   135 non-null float64\n",
      "gdp_per_capita                    135 non-null float64\n",
      "social_support                    135 non-null float64\n",
      "life_expectancy                   135 non-null float64\n",
      "freedom                           135 non-null float64\n",
      "generosity                        135 non-null float64\n",
      "corruption                        135 non-null float64\n",
      "clean_water_per_100_people        135 non-null float64\n",
      "suicide_rate_per_100000_people    135 non-null float64\n",
      "doctors_per_10000_people          135 non-null float64\n",
      "dtypes: float64(10), object(1)\n",
      "memory usage: 12.7+ KB\n"
     ]
    }
   ],
   "source": [
    "main_dataset.info()"
   ]
  },
  {
   "cell_type": "code",
   "execution_count": null,
   "metadata": {},
   "outputs": [],
   "source": []
  },
  {
   "cell_type": "code",
   "execution_count": null,
   "metadata": {},
   "outputs": [],
   "source": []
  },
  {
   "cell_type": "code",
   "execution_count": null,
   "metadata": {},
   "outputs": [],
   "source": []
  },
  {
   "cell_type": "code",
   "execution_count": null,
   "metadata": {},
   "outputs": [],
   "source": []
  },
  {
   "cell_type": "code",
   "execution_count": null,
   "metadata": {},
   "outputs": [],
   "source": []
  },
  {
   "cell_type": "code",
   "execution_count": null,
   "metadata": {},
   "outputs": [],
   "source": []
  },
  {
   "cell_type": "code",
   "execution_count": null,
   "metadata": {},
   "outputs": [],
   "source": []
  },
  {
   "cell_type": "code",
   "execution_count": null,
   "metadata": {},
   "outputs": [],
   "source": []
  },
  {
   "cell_type": "code",
   "execution_count": null,
   "metadata": {},
   "outputs": [],
   "source": []
  },
  {
   "cell_type": "code",
   "execution_count": null,
   "metadata": {},
   "outputs": [],
   "source": []
  },
  {
   "cell_type": "code",
   "execution_count": null,
   "metadata": {},
   "outputs": [],
   "source": []
  },
  {
   "cell_type": "code",
   "execution_count": null,
   "metadata": {},
   "outputs": [],
   "source": []
  },
  {
   "cell_type": "code",
   "execution_count": null,
   "metadata": {},
   "outputs": [],
   "source": []
  },
  {
   "cell_type": "code",
   "execution_count": null,
   "metadata": {},
   "outputs": [],
   "source": []
  },
  {
   "cell_type": "code",
   "execution_count": null,
   "metadata": {},
   "outputs": [],
   "source": []
  },
  {
   "cell_type": "code",
   "execution_count": null,
   "metadata": {},
   "outputs": [],
   "source": []
  },
  {
   "cell_type": "code",
   "execution_count": null,
   "metadata": {},
   "outputs": [],
   "source": []
  }
 ],
 "metadata": {
  "kernelspec": {
   "display_name": "Python 3",
   "language": "python",
   "name": "python3"
  },
  "language_info": {
   "codemirror_mode": {
    "name": "ipython",
    "version": 3
   },
   "file_extension": ".py",
   "mimetype": "text/x-python",
   "name": "python",
   "nbconvert_exporter": "python",
   "pygments_lexer": "ipython3",
   "version": "3.7.9"
  }
 },
 "nbformat": 4,
 "nbformat_minor": 4
}
