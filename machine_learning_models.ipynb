{
 "cells": [
  {
   "cell_type": "markdown",
   "metadata": {},
   "source": [
    "# IMPORTS"
   ]
  },
  {
   "cell_type": "code",
   "execution_count": 1,
   "metadata": {},
   "outputs": [],
   "source": [
    "import pandas as pd\n",
    "import numpy as np\n",
    "import seaborn as sns\n",
    "import matplotlib.pyplot as plt\n",
    "%matplotlib inline\n",
    "import math\n",
    "import os\n",
    "from IPython.display import Markdown as md\n",
    "import scipy.stats as stats\n",
    "\n",
    "from sklearn.model_selection import train_test_split\n",
    "from sklearn.linear_model import LinearRegression\n",
    "from sklearn.model_selection import cross_val_score\n",
    "from sklearn.preprocessing import PolynomialFeatures\n",
    "from sklearn.linear_model import BayesianRidge\n",
    "\n",
    "from sklearn.linear_model import ElasticNet\n",
    "from sklearn.linear_model import Ridge\n",
    "from sklearn.linear_model import Lasso\n",
    "\n",
    "import warnings\n",
    "warnings.filterwarnings('ignore')"
   ]
  },
  {
   "cell_type": "markdown",
   "metadata": {},
   "source": [
    "* * *"
   ]
  },
  {
   "cell_type": "markdown",
   "metadata": {},
   "source": [
    "# LOAD CLEANED DATASETS\n",
    "Let's read our cleaned files from `Datasets/Cleaned_Datasets` directory\n",
    "\n",
    "To learn more about how we cleaned the data, you may want to visit `data_cleaning.py` and `exploratory_data_analysis.ipynb`"
   ]
  },
  {
   "cell_type": "code",
   "execution_count": 2,
   "metadata": {
    "scrolled": true
   },
   "outputs": [
    {
     "data": {
      "text/html": [
       "<div>\n",
       "<style scoped>\n",
       "    .dataframe tbody tr th:only-of-type {\n",
       "        vertical-align: middle;\n",
       "    }\n",
       "\n",
       "    .dataframe tbody tr th {\n",
       "        vertical-align: top;\n",
       "    }\n",
       "\n",
       "    .dataframe thead th {\n",
       "        text-align: right;\n",
       "    }\n",
       "</style>\n",
       "<table border=\"1\" class=\"dataframe\">\n",
       "  <thead>\n",
       "    <tr style=\"text-align: right;\">\n",
       "      <th></th>\n",
       "      <th>country</th>\n",
       "      <th>happiness_score</th>\n",
       "      <th>gdp_per_capita</th>\n",
       "      <th>social_support</th>\n",
       "      <th>life_expectancy</th>\n",
       "      <th>freedom</th>\n",
       "      <th>corruption</th>\n",
       "    </tr>\n",
       "  </thead>\n",
       "  <tbody>\n",
       "    <tr>\n",
       "      <th>0</th>\n",
       "      <td>Afghanistan</td>\n",
       "      <td>3.594628</td>\n",
       "      <td>7.650843</td>\n",
       "      <td>0.508245</td>\n",
       "      <td>52.266667</td>\n",
       "      <td>0.518012</td>\n",
       "      <td>0.843283</td>\n",
       "    </tr>\n",
       "    <tr>\n",
       "      <th>1</th>\n",
       "      <td>Albania</td>\n",
       "      <td>5.019427</td>\n",
       "      <td>9.384397</td>\n",
       "      <td>0.716316</td>\n",
       "      <td>67.546154</td>\n",
       "      <td>0.662830</td>\n",
       "      <td>0.869360</td>\n",
       "    </tr>\n",
       "    <tr>\n",
       "      <th>2</th>\n",
       "      <td>Algeria</td>\n",
       "      <td>5.389717</td>\n",
       "      <td>9.328897</td>\n",
       "      <td>0.803582</td>\n",
       "      <td>65.290000</td>\n",
       "      <td>0.519009</td>\n",
       "      <td>0.690871</td>\n",
       "    </tr>\n",
       "    <tr>\n",
       "      <th>3</th>\n",
       "      <td>Angola</td>\n",
       "      <td>4.420299</td>\n",
       "      <td>8.989725</td>\n",
       "      <td>0.737973</td>\n",
       "      <td>53.550000</td>\n",
       "      <td>0.455957</td>\n",
       "      <td>0.867018</td>\n",
       "    </tr>\n",
       "    <tr>\n",
       "      <th>4</th>\n",
       "      <td>Argentina</td>\n",
       "      <td>6.310166</td>\n",
       "      <td>10.033868</td>\n",
       "      <td>0.904423</td>\n",
       "      <td>67.900000</td>\n",
       "      <td>0.768254</td>\n",
       "      <td>0.841997</td>\n",
       "    </tr>\n",
       "  </tbody>\n",
       "</table>\n",
       "</div>"
      ],
      "text/plain": [
       "       country  happiness_score  gdp_per_capita  social_support  \\\n",
       "0  Afghanistan         3.594628        7.650843        0.508245   \n",
       "1      Albania         5.019427        9.384397        0.716316   \n",
       "2      Algeria         5.389717        9.328897        0.803582   \n",
       "3       Angola         4.420299        8.989725        0.737973   \n",
       "4    Argentina         6.310166       10.033868        0.904423   \n",
       "\n",
       "   life_expectancy   freedom  corruption  \n",
       "0        52.266667  0.518012    0.843283  \n",
       "1        67.546154  0.662830    0.869360  \n",
       "2        65.290000  0.519009    0.690871  \n",
       "3        53.550000  0.455957    0.867018  \n",
       "4        67.900000  0.768254    0.841997  "
      ]
     },
     "execution_count": 2,
     "metadata": {},
     "output_type": "execute_result"
    }
   ],
   "source": [
    "# Use Pandas to read CSV files and store each dataframe into a variable\n",
    "world_happiness_df = pd.read_csv(\"./Datasets/Cleaned_Datasets/cleaned_world_happiness.csv\", header=0)\n",
    "covid_df = pd.read_csv(\"./Datasets/Cleaned_Datasets/cleaned_covid.csv\", header=0)\n",
    "clean_drinking_water_df = pd.read_csv(\"./Datasets/Cleaned_Datasets/cleaned_drinking_water_services.csv\", header=0)\n",
    "crude_suicide_rates_df = pd.read_csv(\"./Datasets/Cleaned_Datasets/cleaned_crude_suicide_rates.csv\", header=0)\n",
    "medical_doctors_df = pd.read_csv(\"./Datasets/Cleaned_Datasets/cleaned_medical_doctors.csv\", header=0)\n",
    "\n",
    "#takea  look at world happiness data\n",
    "world_happiness_df.head(5)"
   ]
  },
  {
   "cell_type": "markdown",
   "metadata": {},
   "source": [
    "* * *"
   ]
  },
  {
   "cell_type": "markdown",
   "metadata": {},
   "source": [
    "# Prepare a new dataset"
   ]
  },
  {
   "cell_type": "markdown",
   "metadata": {},
   "source": [
    "Make a new dataset that will combine `clean_drinking_water`, `crude_suicide_rates`, and `medical_doctors` as features into the `world_happiness_data`"
   ]
  },
  {
   "cell_type": "code",
   "execution_count": 3,
   "metadata": {},
   "outputs": [
    {
     "data": {
      "text/html": [
       "<div>\n",
       "<style scoped>\n",
       "    .dataframe tbody tr th:only-of-type {\n",
       "        vertical-align: middle;\n",
       "    }\n",
       "\n",
       "    .dataframe tbody tr th {\n",
       "        vertical-align: top;\n",
       "    }\n",
       "\n",
       "    .dataframe thead th {\n",
       "        text-align: right;\n",
       "    }\n",
       "</style>\n",
       "<table border=\"1\" class=\"dataframe\">\n",
       "  <thead>\n",
       "    <tr style=\"text-align: right;\">\n",
       "      <th></th>\n",
       "      <th>country</th>\n",
       "      <th>happiness_score</th>\n",
       "      <th>gdp_per_capita</th>\n",
       "      <th>social_support</th>\n",
       "      <th>life_expectancy</th>\n",
       "      <th>freedom</th>\n",
       "      <th>corruption</th>\n",
       "      <th>clean_water_per_100_people</th>\n",
       "      <th>suicide_rate_per_100000_people</th>\n",
       "      <th>doctors_per_10000_people</th>\n",
       "    </tr>\n",
       "  </thead>\n",
       "  <tbody>\n",
       "    <tr>\n",
       "      <th>0</th>\n",
       "      <td>Afghanistan</td>\n",
       "      <td>3.594628</td>\n",
       "      <td>7.650843</td>\n",
       "      <td>0.508245</td>\n",
       "      <td>52.266667</td>\n",
       "      <td>0.518012</td>\n",
       "      <td>0.843283</td>\n",
       "      <td>37.755000</td>\n",
       "      <td>4.300000</td>\n",
       "      <td>2.322500</td>\n",
       "    </tr>\n",
       "    <tr>\n",
       "      <th>1</th>\n",
       "      <td>Albania</td>\n",
       "      <td>5.019427</td>\n",
       "      <td>9.384397</td>\n",
       "      <td>0.716316</td>\n",
       "      <td>67.546154</td>\n",
       "      <td>0.662830</td>\n",
       "      <td>0.869360</td>\n",
       "      <td>84.061667</td>\n",
       "      <td>5.193333</td>\n",
       "      <td>13.092727</td>\n",
       "    </tr>\n",
       "    <tr>\n",
       "      <th>2</th>\n",
       "      <td>Algeria</td>\n",
       "      <td>5.389717</td>\n",
       "      <td>9.328897</td>\n",
       "      <td>0.803582</td>\n",
       "      <td>65.290000</td>\n",
       "      <td>0.519009</td>\n",
       "      <td>0.690871</td>\n",
       "      <td>86.305000</td>\n",
       "      <td>2.880000</td>\n",
       "      <td>14.450000</td>\n",
       "    </tr>\n",
       "    <tr>\n",
       "      <th>3</th>\n",
       "      <td>Angola</td>\n",
       "      <td>4.420299</td>\n",
       "      <td>8.989725</td>\n",
       "      <td>0.737973</td>\n",
       "      <td>53.550000</td>\n",
       "      <td>0.455957</td>\n",
       "      <td>0.867018</td>\n",
       "      <td>24.313889</td>\n",
       "      <td>5.200000</td>\n",
       "      <td>1.167500</td>\n",
       "    </tr>\n",
       "    <tr>\n",
       "      <th>4</th>\n",
       "      <td>Argentina</td>\n",
       "      <td>6.310166</td>\n",
       "      <td>10.033868</td>\n",
       "      <td>0.904423</td>\n",
       "      <td>67.900000</td>\n",
       "      <td>0.768254</td>\n",
       "      <td>0.841997</td>\n",
       "      <td>87.365556</td>\n",
       "      <td>7.280000</td>\n",
       "      <td>34.327143</td>\n",
       "    </tr>\n",
       "    <tr>\n",
       "      <th>5</th>\n",
       "      <td>Armenia</td>\n",
       "      <td>4.513624</td>\n",
       "      <td>9.270409</td>\n",
       "      <td>0.718620</td>\n",
       "      <td>65.742857</td>\n",
       "      <td>0.563791</td>\n",
       "      <td>0.846484</td>\n",
       "      <td>94.861667</td>\n",
       "      <td>4.240000</td>\n",
       "      <td>20.320741</td>\n",
       "    </tr>\n",
       "    <tr>\n",
       "      <th>6</th>\n",
       "      <td>Australia</td>\n",
       "      <td>7.282024</td>\n",
       "      <td>10.755507</td>\n",
       "      <td>0.947253</td>\n",
       "      <td>72.692857</td>\n",
       "      <td>0.921648</td>\n",
       "      <td>0.415422</td>\n",
       "      <td>99.566111</td>\n",
       "      <td>10.360000</td>\n",
       "      <td>31.455333</td>\n",
       "    </tr>\n",
       "    <tr>\n",
       "      <th>7</th>\n",
       "      <td>Austria</td>\n",
       "      <td>7.242227</td>\n",
       "      <td>10.886958</td>\n",
       "      <td>0.929600</td>\n",
       "      <td>72.103077</td>\n",
       "      <td>0.906196</td>\n",
       "      <td>0.570189</td>\n",
       "      <td>100.000000</td>\n",
       "      <td>13.993333</td>\n",
       "      <td>41.785357</td>\n",
       "    </tr>\n",
       "    <tr>\n",
       "      <th>8</th>\n",
       "      <td>Azerbaijan</td>\n",
       "      <td>4.940989</td>\n",
       "      <td>9.519592</td>\n",
       "      <td>0.770649</td>\n",
       "      <td>63.942857</td>\n",
       "      <td>0.662107</td>\n",
       "      <td>0.698330</td>\n",
       "      <td>69.972778</td>\n",
       "      <td>2.246667</td>\n",
       "      <td>36.266000</td>\n",
       "    </tr>\n",
       "    <tr>\n",
       "      <th>9</th>\n",
       "      <td>Bahrain</td>\n",
       "      <td>6.001723</td>\n",
       "      <td>10.730848</td>\n",
       "      <td>0.880093</td>\n",
       "      <td>67.594546</td>\n",
       "      <td>0.861467</td>\n",
       "      <td>0.553173</td>\n",
       "      <td>99.969444</td>\n",
       "      <td>4.633333</td>\n",
       "      <td>9.936875</td>\n",
       "    </tr>\n",
       "    <tr>\n",
       "      <th>10</th>\n",
       "      <td>Bangladesh</td>\n",
       "      <td>4.754565</td>\n",
       "      <td>8.128453</td>\n",
       "      <td>0.607105</td>\n",
       "      <td>62.040000</td>\n",
       "      <td>0.750763</td>\n",
       "      <td>0.742666</td>\n",
       "      <td>95.513333</td>\n",
       "      <td>5.100000</td>\n",
       "      <td>3.892941</td>\n",
       "    </tr>\n",
       "    <tr>\n",
       "      <th>11</th>\n",
       "      <td>Belarus</td>\n",
       "      <td>5.571155</td>\n",
       "      <td>9.760055</td>\n",
       "      <td>0.906551</td>\n",
       "      <td>63.750000</td>\n",
       "      <td>0.662002</td>\n",
       "      <td>0.671172</td>\n",
       "      <td>97.560000</td>\n",
       "      <td>31.533333</td>\n",
       "      <td>35.241923</td>\n",
       "    </tr>\n",
       "    <tr>\n",
       "      <th>12</th>\n",
       "      <td>Belgium</td>\n",
       "      <td>6.981520</td>\n",
       "      <td>10.798704</td>\n",
       "      <td>0.920018</td>\n",
       "      <td>71.228572</td>\n",
       "      <td>0.853521</td>\n",
       "      <td>0.619078</td>\n",
       "      <td>100.000000</td>\n",
       "      <td>17.146667</td>\n",
       "      <td>29.088421</td>\n",
       "    </tr>\n",
       "    <tr>\n",
       "      <th>13</th>\n",
       "      <td>Belize</td>\n",
       "      <td>6.203146</td>\n",
       "      <td>8.887803</td>\n",
       "      <td>0.814600</td>\n",
       "      <td>61.910000</td>\n",
       "      <td>0.789438</td>\n",
       "      <td>0.775545</td>\n",
       "      <td>90.672778</td>\n",
       "      <td>4.033333</td>\n",
       "      <td>9.230000</td>\n",
       "    </tr>\n",
       "    <tr>\n",
       "      <th>14</th>\n",
       "      <td>Benin</td>\n",
       "      <td>4.048055</td>\n",
       "      <td>7.985996</td>\n",
       "      <td>0.477167</td>\n",
       "      <td>52.933333</td>\n",
       "      <td>0.741412</td>\n",
       "      <td>0.784428</td>\n",
       "      <td>55.406111</td>\n",
       "      <td>7.780000</td>\n",
       "      <td>0.866250</td>\n",
       "    </tr>\n",
       "  </tbody>\n",
       "</table>\n",
       "</div>"
      ],
      "text/plain": [
       "        country  happiness_score  gdp_per_capita  social_support  \\\n",
       "0   Afghanistan         3.594628        7.650843        0.508245   \n",
       "1       Albania         5.019427        9.384397        0.716316   \n",
       "2       Algeria         5.389717        9.328897        0.803582   \n",
       "3        Angola         4.420299        8.989725        0.737973   \n",
       "4     Argentina         6.310166       10.033868        0.904423   \n",
       "5       Armenia         4.513624        9.270409        0.718620   \n",
       "6     Australia         7.282024       10.755507        0.947253   \n",
       "7       Austria         7.242227       10.886958        0.929600   \n",
       "8    Azerbaijan         4.940989        9.519592        0.770649   \n",
       "9       Bahrain         6.001723       10.730848        0.880093   \n",
       "10   Bangladesh         4.754565        8.128453        0.607105   \n",
       "11      Belarus         5.571155        9.760055        0.906551   \n",
       "12      Belgium         6.981520       10.798704        0.920018   \n",
       "13       Belize         6.203146        8.887803        0.814600   \n",
       "14        Benin         4.048055        7.985996        0.477167   \n",
       "\n",
       "    life_expectancy   freedom  corruption  clean_water_per_100_people  \\\n",
       "0         52.266667  0.518012    0.843283                   37.755000   \n",
       "1         67.546154  0.662830    0.869360                   84.061667   \n",
       "2         65.290000  0.519009    0.690871                   86.305000   \n",
       "3         53.550000  0.455957    0.867018                   24.313889   \n",
       "4         67.900000  0.768254    0.841997                   87.365556   \n",
       "5         65.742857  0.563791    0.846484                   94.861667   \n",
       "6         72.692857  0.921648    0.415422                   99.566111   \n",
       "7         72.103077  0.906196    0.570189                  100.000000   \n",
       "8         63.942857  0.662107    0.698330                   69.972778   \n",
       "9         67.594546  0.861467    0.553173                   99.969444   \n",
       "10        62.040000  0.750763    0.742666                   95.513333   \n",
       "11        63.750000  0.662002    0.671172                   97.560000   \n",
       "12        71.228572  0.853521    0.619078                  100.000000   \n",
       "13        61.910000  0.789438    0.775545                   90.672778   \n",
       "14        52.933333  0.741412    0.784428                   55.406111   \n",
       "\n",
       "    suicide_rate_per_100000_people  doctors_per_10000_people  \n",
       "0                         4.300000                  2.322500  \n",
       "1                         5.193333                 13.092727  \n",
       "2                         2.880000                 14.450000  \n",
       "3                         5.200000                  1.167500  \n",
       "4                         7.280000                 34.327143  \n",
       "5                         4.240000                 20.320741  \n",
       "6                        10.360000                 31.455333  \n",
       "7                        13.993333                 41.785357  \n",
       "8                         2.246667                 36.266000  \n",
       "9                         4.633333                  9.936875  \n",
       "10                        5.100000                  3.892941  \n",
       "11                       31.533333                 35.241923  \n",
       "12                       17.146667                 29.088421  \n",
       "13                        4.033333                  9.230000  \n",
       "14                        7.780000                  0.866250  "
      ]
     },
     "execution_count": 3,
     "metadata": {},
     "output_type": "execute_result"
    }
   ],
   "source": [
    "# merge 3 datasets with world_happiness_df, the merging performed here occurs similar to SQL inner join\n",
    "main_dataset = pd.merge(world_happiness_df, clean_drinking_water_df, how='inner', on=\"country\")\n",
    "main_dataset = pd.merge(main_dataset, crude_suicide_rates_df, how='inner', on=\"country\")\n",
    "main_dataset = pd.merge(main_dataset, medical_doctors_df, how='inner', on=\"country\")\n",
    "\n",
    "#Also export this dataframe as csv into Clean_Dataset directory after preparing\n",
    "main_dataset.to_csv('./Datasets/Cleaned_Datasets/full_dataset.csv', index = False)\n",
    "main_dataset.head(15)"
   ]
  },
  {
   "cell_type": "code",
   "execution_count": 4,
   "metadata": {
    "scrolled": false
   },
   "outputs": [
    {
     "data": {
      "text/html": [
       "<div>\n",
       "<style scoped>\n",
       "    .dataframe tbody tr th:only-of-type {\n",
       "        vertical-align: middle;\n",
       "    }\n",
       "\n",
       "    .dataframe tbody tr th {\n",
       "        vertical-align: top;\n",
       "    }\n",
       "\n",
       "    .dataframe thead th {\n",
       "        text-align: right;\n",
       "    }\n",
       "</style>\n",
       "<table border=\"1\" class=\"dataframe\">\n",
       "  <thead>\n",
       "    <tr style=\"text-align: right;\">\n",
       "      <th></th>\n",
       "      <th>happiness_score</th>\n",
       "      <th>gdp_per_capita</th>\n",
       "      <th>social_support</th>\n",
       "      <th>life_expectancy</th>\n",
       "      <th>freedom</th>\n",
       "      <th>corruption</th>\n",
       "      <th>clean_water_per_100_people</th>\n",
       "      <th>suicide_rate_per_100000_people</th>\n",
       "      <th>doctors_per_10000_people</th>\n",
       "    </tr>\n",
       "  </thead>\n",
       "  <tbody>\n",
       "    <tr>\n",
       "      <th>count</th>\n",
       "      <td>140.000000</td>\n",
       "      <td>140.000000</td>\n",
       "      <td>140.000000</td>\n",
       "      <td>140.000000</td>\n",
       "      <td>140.000000</td>\n",
       "      <td>140.000000</td>\n",
       "      <td>140.000000</td>\n",
       "      <td>140.000000</td>\n",
       "      <td>140.000000</td>\n",
       "    </tr>\n",
       "    <tr>\n",
       "      <th>mean</th>\n",
       "      <td>5.424848</td>\n",
       "      <td>9.301535</td>\n",
       "      <td>0.805777</td>\n",
       "      <td>62.805440</td>\n",
       "      <td>0.741846</td>\n",
       "      <td>0.733355</td>\n",
       "      <td>77.711177</td>\n",
       "      <td>8.415738</td>\n",
       "      <td>16.016670</td>\n",
       "    </tr>\n",
       "    <tr>\n",
       "      <th>std</th>\n",
       "      <td>1.103782</td>\n",
       "      <td>1.212501</td>\n",
       "      <td>0.118027</td>\n",
       "      <td>7.636191</td>\n",
       "      <td>0.125386</td>\n",
       "      <td>0.183885</td>\n",
       "      <td>23.426713</td>\n",
       "      <td>5.965113</td>\n",
       "      <td>13.259219</td>\n",
       "    </tr>\n",
       "    <tr>\n",
       "      <th>min</th>\n",
       "      <td>3.514954</td>\n",
       "      <td>6.722510</td>\n",
       "      <td>0.402559</td>\n",
       "      <td>43.356001</td>\n",
       "      <td>0.451014</td>\n",
       "      <td>0.097752</td>\n",
       "      <td>21.435000</td>\n",
       "      <td>1.340000</td>\n",
       "      <td>0.226000</td>\n",
       "    </tr>\n",
       "    <tr>\n",
       "      <th>25%</th>\n",
       "      <td>4.465380</td>\n",
       "      <td>8.297707</td>\n",
       "      <td>0.745606</td>\n",
       "      <td>56.967857</td>\n",
       "      <td>0.662081</td>\n",
       "      <td>0.690242</td>\n",
       "      <td>59.039722</td>\n",
       "      <td>4.233333</td>\n",
       "      <td>2.963958</td>\n",
       "    </tr>\n",
       "    <tr>\n",
       "      <th>50%</th>\n",
       "      <td>5.309331</td>\n",
       "      <td>9.396615</td>\n",
       "      <td>0.826084</td>\n",
       "      <td>65.065667</td>\n",
       "      <td>0.745535</td>\n",
       "      <td>0.794771</td>\n",
       "      <td>85.709444</td>\n",
       "      <td>6.813333</td>\n",
       "      <td>14.540263</td>\n",
       "    </tr>\n",
       "    <tr>\n",
       "      <th>75%</th>\n",
       "      <td>6.263767</td>\n",
       "      <td>10.289785</td>\n",
       "      <td>0.902506</td>\n",
       "      <td>67.945536</td>\n",
       "      <td>0.832220</td>\n",
       "      <td>0.845422</td>\n",
       "      <td>98.410417</td>\n",
       "      <td>10.375000</td>\n",
       "      <td>27.518800</td>\n",
       "    </tr>\n",
       "    <tr>\n",
       "      <th>max</th>\n",
       "      <td>7.680305</td>\n",
       "      <td>11.607032</td>\n",
       "      <td>0.977578</td>\n",
       "      <td>75.358461</td>\n",
       "      <td>0.954373</td>\n",
       "      <td>0.953186</td>\n",
       "      <td>100.000000</td>\n",
       "      <td>34.500000</td>\n",
       "      <td>43.590345</td>\n",
       "    </tr>\n",
       "  </tbody>\n",
       "</table>\n",
       "</div>"
      ],
      "text/plain": [
       "       happiness_score  gdp_per_capita  social_support  life_expectancy  \\\n",
       "count       140.000000      140.000000      140.000000       140.000000   \n",
       "mean          5.424848        9.301535        0.805777        62.805440   \n",
       "std           1.103782        1.212501        0.118027         7.636191   \n",
       "min           3.514954        6.722510        0.402559        43.356001   \n",
       "25%           4.465380        8.297707        0.745606        56.967857   \n",
       "50%           5.309331        9.396615        0.826084        65.065667   \n",
       "75%           6.263767       10.289785        0.902506        67.945536   \n",
       "max           7.680305       11.607032        0.977578        75.358461   \n",
       "\n",
       "          freedom  corruption  clean_water_per_100_people  \\\n",
       "count  140.000000  140.000000                  140.000000   \n",
       "mean     0.741846    0.733355                   77.711177   \n",
       "std      0.125386    0.183885                   23.426713   \n",
       "min      0.451014    0.097752                   21.435000   \n",
       "25%      0.662081    0.690242                   59.039722   \n",
       "50%      0.745535    0.794771                   85.709444   \n",
       "75%      0.832220    0.845422                   98.410417   \n",
       "max      0.954373    0.953186                  100.000000   \n",
       "\n",
       "       suicide_rate_per_100000_people  doctors_per_10000_people  \n",
       "count                      140.000000                140.000000  \n",
       "mean                         8.415738                 16.016670  \n",
       "std                          5.965113                 13.259219  \n",
       "min                          1.340000                  0.226000  \n",
       "25%                          4.233333                  2.963958  \n",
       "50%                          6.813333                 14.540263  \n",
       "75%                         10.375000                 27.518800  \n",
       "max                         34.500000                 43.590345  "
      ]
     },
     "metadata": {},
     "output_type": "display_data"
    },
    {
     "name": "stdout",
     "output_type": "stream",
     "text": [
      "<class 'pandas.core.frame.DataFrame'>\n",
      "Int64Index: 140 entries, 0 to 139\n",
      "Data columns (total 10 columns):\n",
      "country                           140 non-null object\n",
      "happiness_score                   140 non-null float64\n",
      "gdp_per_capita                    140 non-null float64\n",
      "social_support                    140 non-null float64\n",
      "life_expectancy                   140 non-null float64\n",
      "freedom                           140 non-null float64\n",
      "corruption                        140 non-null float64\n",
      "clean_water_per_100_people        140 non-null float64\n",
      "suicide_rate_per_100000_people    140 non-null float64\n",
      "doctors_per_10000_people          140 non-null float64\n",
      "dtypes: float64(9), object(1)\n",
      "memory usage: 12.0+ KB\n"
     ]
    },
    {
     "data": {
      "text/plain": [
       "None"
      ]
     },
     "metadata": {},
     "output_type": "display_data"
    },
    {
     "data": {
      "text/plain": [
       "country                           0\n",
       "happiness_score                   0\n",
       "gdp_per_capita                    0\n",
       "social_support                    0\n",
       "life_expectancy                   0\n",
       "freedom                           0\n",
       "corruption                        0\n",
       "clean_water_per_100_people        0\n",
       "suicide_rate_per_100000_people    0\n",
       "doctors_per_10000_people          0\n",
       "dtype: int64"
      ]
     },
     "metadata": {},
     "output_type": "display_data"
    }
   ],
   "source": [
    "# Summary of the new dataset\n",
    "display(main_dataset.describe())\n",
    "display(main_dataset.info())\n",
    "display(main_dataset.isnull().sum(axis = 0))"
   ]
  },
  {
   "cell_type": "markdown",
   "metadata": {},
   "source": [
    "* * *"
   ]
  },
  {
   "cell_type": "markdown",
   "metadata": {},
   "source": [
    "# MACHINE LEARNING MODELS"
   ]
  },
  {
   "cell_type": "markdown",
   "metadata": {},
   "source": [
    "Here is the list of all the different types of ML Regression models that we will build in this notebook:\n",
    "\n",
    "#### * Linear Regression\n",
    "#### * ElasticNet Regression\n",
    "#### * Ridge Regression\n",
    "#### * Lasso Regression  "
   ]
  },
  {
   "cell_type": "markdown",
   "metadata": {},
   "source": [
    "*** "
   ]
  },
  {
   "cell_type": "markdown",
   "metadata": {},
   "source": [
    "## Splitting the dataset"
   ]
  },
  {
   "cell_type": "markdown",
   "metadata": {},
   "source": [
    "First we need to split the datasets into features and labels\n",
    "\n",
    "* The label (y) is  `happiness_score`\n",
    "* The features (X) include 6 different variables/columns:\n",
    "     * `gdp_per_capita`\n",
    "     * `social_support`\n",
    "     * `life_expectancy`\n",
    "     * `freedom`\n",
    "     * `clean_water_per_100_people`\n",
    "     * `doctors_per_10000_people`\n",
    "\n",
    "Our data contains more columns/features that we will skip for now and not include as features for our ML models. We do not want to overfit our model as we know that more features will lead to high complexity of our model"
   ]
  },
  {
   "cell_type": "code",
   "execution_count": 5,
   "metadata": {},
   "outputs": [
    {
     "name": "stdout",
     "output_type": "stream",
     "text": [
      "S shape :  (140, 6)\n",
      "y shape :  (140,)\n"
     ]
    }
   ],
   "source": [
    "# Take the pandas dataset and split it into our features (X) and label (y)\n",
    "\n",
    "#features (X)\n",
    "X = main_dataset[[\"gdp_per_capita\", \"social_support\", \"life_expectancy\", \"freedom\", \n",
    "                  \"clean_water_per_100_people\", \"doctors_per_10000_people\" ]]\n",
    "\n",
    "#label (y)\n",
    "y = main_dataset[\"happiness_score\"]\n",
    "\n",
    "# Use sklearn to split the features and labels into a training/test set. (75% train, 25% test)\n",
    "X_train, X_test, y_train, y_test = train_test_split(X, y, test_size=0.25)\n",
    "print(\"S shape : \",X.shape)\n",
    "print(\"y shape : \",y.shape)"
   ]
  },
  {
   "cell_type": "markdown",
   "metadata": {},
   "source": [
    "***"
   ]
  },
  {
   "cell_type": "markdown",
   "metadata": {},
   "source": [
    "# Linear Regression\n",
    "\n",
    "#### Make an object of the class LinearRegression followed by fit method which fits the regressor to the training data"
   ]
  },
  {
   "cell_type": "code",
   "execution_count": 6,
   "metadata": {},
   "outputs": [
    {
     "data": {
      "text/plain": [
       "LinearRegression(copy_X=True, fit_intercept=True, n_jobs=None,\n",
       "         normalize=False)"
      ]
     },
     "execution_count": 6,
     "metadata": {},
     "output_type": "execute_result"
    }
   ],
   "source": [
    "# Use sklearn to train a model on the training set\n",
    "LinearR_model = LinearRegression()\n",
    "LinearR_model.fit(X_train, y_train)"
   ]
  },
  {
   "cell_type": "markdown",
   "metadata": {},
   "source": [
    "#### Call predict method on the actual dataset"
   ]
  },
  {
   "cell_type": "code",
   "execution_count": 7,
   "metadata": {},
   "outputs": [],
   "source": [
    "# Create a sample datapoint and predict the output of that sample with the trained model\n",
    "LinearR_y_pred = LinearR_model.predict(X_test)"
   ]
  },
  {
   "cell_type": "markdown",
   "metadata": {},
   "source": [
    "#### Make a dataframe to compare the actual vs predicted"
   ]
  },
  {
   "cell_type": "code",
   "execution_count": 8,
   "metadata": {
    "scrolled": true
   },
   "outputs": [
    {
     "data": {
      "text/html": [
       "<div>\n",
       "<style scoped>\n",
       "    .dataframe tbody tr th:only-of-type {\n",
       "        vertical-align: middle;\n",
       "    }\n",
       "\n",
       "    .dataframe tbody tr th {\n",
       "        vertical-align: top;\n",
       "    }\n",
       "\n",
       "    .dataframe thead th {\n",
       "        text-align: right;\n",
       "    }\n",
       "</style>\n",
       "<table border=\"1\" class=\"dataframe\">\n",
       "  <thead>\n",
       "    <tr style=\"text-align: right;\">\n",
       "      <th></th>\n",
       "      <th>Actual</th>\n",
       "      <th>Predicted</th>\n",
       "    </tr>\n",
       "  </thead>\n",
       "  <tbody>\n",
       "    <tr>\n",
       "      <th>82</th>\n",
       "      <td>5.863883</td>\n",
       "      <td>6.088346</td>\n",
       "    </tr>\n",
       "    <tr>\n",
       "      <th>86</th>\n",
       "      <td>5.019815</td>\n",
       "      <td>4.843354</td>\n",
       "    </tr>\n",
       "    <tr>\n",
       "      <th>67</th>\n",
       "      <td>6.273742</td>\n",
       "      <td>6.367381</td>\n",
       "    </tr>\n",
       "    <tr>\n",
       "      <th>110</th>\n",
       "      <td>4.112052</td>\n",
       "      <td>3.882882</td>\n",
       "    </tr>\n",
       "    <tr>\n",
       "      <th>139</th>\n",
       "      <td>3.882689</td>\n",
       "      <td>4.201202</td>\n",
       "    </tr>\n",
       "  </tbody>\n",
       "</table>\n",
       "</div>"
      ],
      "text/plain": [
       "       Actual  Predicted\n",
       "82   5.863883   6.088346\n",
       "86   5.019815   4.843354\n",
       "67   6.273742   6.367381\n",
       "110  4.112052   3.882882\n",
       "139  3.882689   4.201202"
      ]
     },
     "execution_count": 8,
     "metadata": {},
     "output_type": "execute_result"
    }
   ],
   "source": [
    "LinearR_compare_actual_predicted = pd.DataFrame({\"Actual\" : y_test, 'Predicted' : LinearR_y_pred})\n",
    "LinearR_compare_actual_predicted.head()"
   ]
  },
  {
   "cell_type": "markdown",
   "metadata": {},
   "source": [
    "#### Score of our Linear Regression Model"
   ]
  },
  {
   "cell_type": "code",
   "execution_count": 9,
   "metadata": {},
   "outputs": [
    {
     "name": "stdout",
     "output_type": "stream",
     "text": [
      "Score =  0.8790313446351949\n"
     ]
    }
   ],
   "source": [
    "# Report on the score for that model, in your own words (markdown, not code) explain what the score means\n",
    "LinearR_score = LinearR_model.score(X_test, y_test)\n",
    "LinearR_score_percentage = LinearR_score*100\n",
    "print(\"Score = \", LinearR_score)"
   ]
  },
  {
   "cell_type": "code",
   "execution_count": 10,
   "metadata": {},
   "outputs": [
    {
     "data": {
      "text/markdown": [
       "What does the score here mean?\n",
       "\n",
       "The scoring method for this linear regression is R squared. This metric quantifies the amount of variance in the target variable that is predicted from the feature variables. Here `87.9` means that the model has `87.9 percent`  accuracy predicting the `World Happiness` based upon the following 6 variables: \n",
       " * gdp_per_capita\n",
       " * social_support\n",
       " * life_expectancy\n",
       " * freedom\n",
       " * clean_water_per_100_people\n",
       " * doctors_per_10000_people "
      ],
      "text/plain": [
       "<IPython.core.display.Markdown object>"
      ]
     },
     "execution_count": 10,
     "metadata": {},
     "output_type": "execute_result"
    }
   ],
   "source": [
    "md(\"What does the score here mean?\\n\\nThe scoring method for this linear regression is R squared. This metric quantifies the amount of variance in the target variable that is predicted from the feature variables. Here `%0.1f` means that the model has `%0.1f percent`  accuracy predicting the `World Happiness` based upon the following 6 variables: \\n * gdp_per_capita\\n * social_support\\n * life_expectancy\\n * freedom\\n * clean_water_per_100_people\\n * doctors_per_10000_people \"%(LinearR_score_percentage,LinearR_score_percentage))"
   ]
  },
  {
   "cell_type": "markdown",
   "metadata": {},
   "source": [
    "#### Coefficients and Intercept"
   ]
  },
  {
   "cell_type": "code",
   "execution_count": 11,
   "metadata": {},
   "outputs": [
    {
     "name": "stdout",
     "output_type": "stream",
     "text": [
      "Coefficients :  [0.32586453 1.93571859 0.0251739  1.97330806 0.00243444 0.00295645]\n",
      "Intercept =  -2.4669897850485754\n"
     ]
    }
   ],
   "source": [
    "print(\"Coefficients : \", LinearR_model.coef_)\n",
    "print(\"Intercept = \", LinearR_model.intercept_)"
   ]
  },
  {
   "cell_type": "markdown",
   "metadata": {},
   "source": [
    "### Use Cross Validation\n",
    "\n",
    "Use the cross_val_score function to repeat the experiment across many shuffles of the data"
   ]
  },
  {
   "cell_type": "code",
   "execution_count": 12,
   "metadata": {},
   "outputs": [],
   "source": [
    "# Use the cross_val_score function to repeat the experiment across many shuffles of the data"
   ]
  },
  {
   "cell_type": "code",
   "execution_count": 13,
   "metadata": {},
   "outputs": [
    {
     "name": "stdout",
     "output_type": "stream",
     "text": [
      "Cross Validation results :  [0.79671275 0.88005688 0.76956663 0.54303794 0.70066289 0.67977733\n",
      " 0.86890101 0.73026655 0.77091672 0.7182542 ]\n"
     ]
    }
   ],
   "source": [
    "#We will choose to use cv = 10 that means 10 folds of data\n",
    "\n",
    "cv_results = cross_val_score(LinearR_model, X_train, y_train,cv=10)\n",
    "cv_results_mean, cv_results_std = cv_results.mean(), cv_results.std()\n",
    "print(\"Cross Validation results : \",cv_results)"
   ]
  },
  {
   "cell_type": "code",
   "execution_count": 14,
   "metadata": {},
   "outputs": [
    {
     "name": "stdout",
     "output_type": "stream",
     "text": [
      "0.75 accuracy with a standard deviation of 0.09\n"
     ]
    }
   ],
   "source": [
    "print(\"%0.2f accuracy with a standard deviation of %0.2f\" % (cv_results_mean, cv_results_std))"
   ]
  },
  {
   "cell_type": "markdown",
   "metadata": {},
   "source": [
    "#### Significance of using cross validation\n",
    "\n",
    "When computing R squared on the test set, the R squared is dependent on the way you split up the data. The data points in the test set may have anomalies that which implies that the R-squared computed is not representative of the model's ability to generalize the unseen data. Cross validation here split the dataset into 10 folds/groups. This essentially took the first fold as a test set and fit the model on the remaining 9 folds. Then it predicted on the test set. This repeats for total 10 times. Eventually giving us an array of cross-validation scores. Therefore giving us a more accurate score value\n"
   ]
  },
  {
   "cell_type": "markdown",
   "metadata": {},
   "source": [
    "***"
   ]
  },
  {
   "cell_type": "markdown",
   "metadata": {},
   "source": [
    "# ElasticNet Regression\n",
    "\n",
    "#### Make an object of the class ElasticNet Regression followed by fit method which fits the regressor to the training data"
   ]
  },
  {
   "cell_type": "code",
   "execution_count": 15,
   "metadata": {},
   "outputs": [
    {
     "data": {
      "text/plain": [
       "ElasticNet(alpha=0, copy_X=True, fit_intercept=True, l1_ratio=0,\n",
       "      max_iter=1000, normalize=False, positive=False, precompute=False,\n",
       "      random_state=42, selection='cyclic', tol=0.0001, warm_start=False)"
      ]
     },
     "execution_count": 15,
     "metadata": {},
     "output_type": "execute_result"
    }
   ],
   "source": [
    "# Use sklearn to train a model on the training set\n",
    "ER_model = ElasticNet(alpha=0, l1_ratio=0,random_state=42)\n",
    "ER_model.fit(X_train, y_train)"
   ]
  },
  {
   "cell_type": "markdown",
   "metadata": {},
   "source": [
    "#### Call predict method on the actual dataset"
   ]
  },
  {
   "cell_type": "code",
   "execution_count": 16,
   "metadata": {},
   "outputs": [],
   "source": [
    "# Create a sample datapoint and predict the output of that sample with the trained model\n",
    "ER_y_pred = ER_model.predict(X_test)"
   ]
  },
  {
   "cell_type": "markdown",
   "metadata": {},
   "source": [
    "#### Make a dataframe to compare the actual vs predicted"
   ]
  },
  {
   "cell_type": "code",
   "execution_count": 17,
   "metadata": {
    "scrolled": true
   },
   "outputs": [
    {
     "data": {
      "text/html": [
       "<div>\n",
       "<style scoped>\n",
       "    .dataframe tbody tr th:only-of-type {\n",
       "        vertical-align: middle;\n",
       "    }\n",
       "\n",
       "    .dataframe tbody tr th {\n",
       "        vertical-align: top;\n",
       "    }\n",
       "\n",
       "    .dataframe thead th {\n",
       "        text-align: right;\n",
       "    }\n",
       "</style>\n",
       "<table border=\"1\" class=\"dataframe\">\n",
       "  <thead>\n",
       "    <tr style=\"text-align: right;\">\n",
       "      <th></th>\n",
       "      <th>Actual</th>\n",
       "      <th>Predicted</th>\n",
       "    </tr>\n",
       "  </thead>\n",
       "  <tbody>\n",
       "    <tr>\n",
       "      <th>82</th>\n",
       "      <td>5.863883</td>\n",
       "      <td>6.088346</td>\n",
       "    </tr>\n",
       "    <tr>\n",
       "      <th>86</th>\n",
       "      <td>5.019815</td>\n",
       "      <td>4.843354</td>\n",
       "    </tr>\n",
       "    <tr>\n",
       "      <th>67</th>\n",
       "      <td>6.273742</td>\n",
       "      <td>6.367381</td>\n",
       "    </tr>\n",
       "    <tr>\n",
       "      <th>110</th>\n",
       "      <td>4.112052</td>\n",
       "      <td>3.882882</td>\n",
       "    </tr>\n",
       "    <tr>\n",
       "      <th>139</th>\n",
       "      <td>3.882689</td>\n",
       "      <td>4.201202</td>\n",
       "    </tr>\n",
       "  </tbody>\n",
       "</table>\n",
       "</div>"
      ],
      "text/plain": [
       "       Actual  Predicted\n",
       "82   5.863883   6.088346\n",
       "86   5.019815   4.843354\n",
       "67   6.273742   6.367381\n",
       "110  4.112052   3.882882\n",
       "139  3.882689   4.201202"
      ]
     },
     "execution_count": 17,
     "metadata": {},
     "output_type": "execute_result"
    }
   ],
   "source": [
    "ER_compare_actual_predicted = pd.DataFrame({\"Actual\" : y_test, 'Predicted' : ER_y_pred})\n",
    "ER_compare_actual_predicted.head()"
   ]
  },
  {
   "cell_type": "markdown",
   "metadata": {},
   "source": [
    "#### Score of our ElasticNet Regression Model"
   ]
  },
  {
   "cell_type": "code",
   "execution_count": 18,
   "metadata": {},
   "outputs": [
    {
     "name": "stdout",
     "output_type": "stream",
     "text": [
      "Score =  0.8790313446351953\n"
     ]
    }
   ],
   "source": [
    "# Report on the score for that model, in your own words (markdown, not code) explain what the score means\n",
    "ER_score = ER_model.score(X_test, y_test)\n",
    "ER_score_percentage = ER_score*100\n",
    "print(\"Score = \", ER_score)"
   ]
  },
  {
   "cell_type": "code",
   "execution_count": 19,
   "metadata": {},
   "outputs": [
    {
     "data": {
      "text/markdown": [
       "What does the score here mean?\n",
       "\n",
       "The scoring method for this linear regression is R squared. This metric quantifies the amount of variance in the target variable that is predicted from the feature variables. Here `87.9` means that the model has `87.9 percent`  accuracy predicting the `World Happiness` based upon the following 6 variables: \n",
       " * gdp_per_capita\n",
       " * social_support\n",
       " * life_expectancy\n",
       " * freedom\n",
       " * clean_water_per_100_people\n",
       " * doctors_per_10000_people "
      ],
      "text/plain": [
       "<IPython.core.display.Markdown object>"
      ]
     },
     "execution_count": 19,
     "metadata": {},
     "output_type": "execute_result"
    }
   ],
   "source": [
    "md(\"What does the score here mean?\\n\\nThe scoring method for this linear regression is R squared. This metric quantifies the amount of variance in the target variable that is predicted from the feature variables. Here `%0.1f` means that the model has `%0.1f percent`  accuracy predicting the `World Happiness` based upon the following 6 variables: \\n * gdp_per_capita\\n * social_support\\n * life_expectancy\\n * freedom\\n * clean_water_per_100_people\\n * doctors_per_10000_people \"%(ER_score_percentage,ER_score_percentage))"
   ]
  },
  {
   "cell_type": "markdown",
   "metadata": {},
   "source": [
    "#### Coefficients and Intercept"
   ]
  },
  {
   "cell_type": "code",
   "execution_count": 20,
   "metadata": {},
   "outputs": [
    {
     "name": "stdout",
     "output_type": "stream",
     "text": [
      "Coefficients :  [0.32586453 1.93571859 0.0251739  1.97330806 0.00243444 0.00295645]\n",
      "Intercept =  -2.4669897850485327\n"
     ]
    }
   ],
   "source": [
    "print(\"Coefficients : \", ER_model.coef_)\n",
    "print(\"Intercept = \", ER_model.intercept_)"
   ]
  },
  {
   "cell_type": "markdown",
   "metadata": {},
   "source": [
    "# Ridge Regression\n",
    "#### Make an object of the class RidgeRegression followed by fit method which fits the regressor to the training data"
   ]
  },
  {
   "cell_type": "code",
   "execution_count": 21,
   "metadata": {},
   "outputs": [
    {
     "data": {
      "text/plain": [
       "Ridge(alpha=100, copy_X=True, fit_intercept=True, max_iter=None,\n",
       "   normalize=False, random_state=None, solver='auto', tol=0.001)"
      ]
     },
     "execution_count": 21,
     "metadata": {},
     "output_type": "execute_result"
    }
   ],
   "source": [
    "# Use sklearn to train a model on the training set\n",
    "RR_model = Ridge(alpha=100)\n",
    "RR_model.fit(X_train, y_train)"
   ]
  },
  {
   "cell_type": "markdown",
   "metadata": {},
   "source": [
    "#### Call predict method on the actual dataset"
   ]
  },
  {
   "cell_type": "code",
   "execution_count": 22,
   "metadata": {},
   "outputs": [],
   "source": [
    "# Create a sample datapoint and predict the output of that sample with the trained model\n",
    "RR_y_pred = RR_model.predict(X_test)"
   ]
  },
  {
   "cell_type": "markdown",
   "metadata": {},
   "source": [
    "#### Make a dataframe to compare the actual vs predicted"
   ]
  },
  {
   "cell_type": "code",
   "execution_count": 23,
   "metadata": {
    "scrolled": true
   },
   "outputs": [
    {
     "data": {
      "text/html": [
       "<div>\n",
       "<style scoped>\n",
       "    .dataframe tbody tr th:only-of-type {\n",
       "        vertical-align: middle;\n",
       "    }\n",
       "\n",
       "    .dataframe tbody tr th {\n",
       "        vertical-align: top;\n",
       "    }\n",
       "\n",
       "    .dataframe thead th {\n",
       "        text-align: right;\n",
       "    }\n",
       "</style>\n",
       "<table border=\"1\" class=\"dataframe\">\n",
       "  <thead>\n",
       "    <tr style=\"text-align: right;\">\n",
       "      <th></th>\n",
       "      <th>Actual</th>\n",
       "      <th>Predicted</th>\n",
       "    </tr>\n",
       "  </thead>\n",
       "  <tbody>\n",
       "    <tr>\n",
       "      <th>82</th>\n",
       "      <td>5.863883</td>\n",
       "      <td>5.776551</td>\n",
       "    </tr>\n",
       "    <tr>\n",
       "      <th>86</th>\n",
       "      <td>5.019815</td>\n",
       "      <td>5.380029</td>\n",
       "    </tr>\n",
       "    <tr>\n",
       "      <th>67</th>\n",
       "      <td>6.273742</td>\n",
       "      <td>5.920714</td>\n",
       "    </tr>\n",
       "    <tr>\n",
       "      <th>110</th>\n",
       "      <td>4.112052</td>\n",
       "      <td>3.565069</td>\n",
       "    </tr>\n",
       "    <tr>\n",
       "      <th>139</th>\n",
       "      <td>3.882689</td>\n",
       "      <td>4.029957</td>\n",
       "    </tr>\n",
       "  </tbody>\n",
       "</table>\n",
       "</div>"
      ],
      "text/plain": [
       "       Actual  Predicted\n",
       "82   5.863883   5.776551\n",
       "86   5.019815   5.380029\n",
       "67   6.273742   5.920714\n",
       "110  4.112052   3.565069\n",
       "139  3.882689   4.029957"
      ]
     },
     "execution_count": 23,
     "metadata": {},
     "output_type": "execute_result"
    }
   ],
   "source": [
    "RR_compare_actual_predicted = pd.DataFrame({\"Actual\" : y_test, 'Predicted' : RR_y_pred})\n",
    "RR_compare_actual_predicted.head()"
   ]
  },
  {
   "cell_type": "markdown",
   "metadata": {},
   "source": [
    "#### Score of our Ridge Regression Model"
   ]
  },
  {
   "cell_type": "code",
   "execution_count": 24,
   "metadata": {},
   "outputs": [
    {
     "name": "stdout",
     "output_type": "stream",
     "text": [
      "Score =  0.7655558844286632\n"
     ]
    }
   ],
   "source": [
    "# Report on the score for that model, in your own words (markdown, not code) explain what the score means\n",
    "RR_score = RR_model.score(X_test, y_test)\n",
    "RR_score_percentage = RR_score*100\n",
    "print(\"Score = \", RR_score)"
   ]
  },
  {
   "cell_type": "code",
   "execution_count": 25,
   "metadata": {},
   "outputs": [
    {
     "data": {
      "text/markdown": [
       "What does the score here mean?\n",
       "\n",
       "The scoring method for this linear regression is R squared. This metric quantifies the amount of variance in the target variable that is predicted from the feature variables. Here `76.6` means that the model has `76.6 percent`  accuracy predicting the `World Happiness` based upon the following 6 variables: \n",
       " * gdp_per_capita\n",
       " * social_support\n",
       " * life_expectancy\n",
       " * freedom\n",
       " * clean_water_per_100_people\n",
       " * doctors_per_10000_people "
      ],
      "text/plain": [
       "<IPython.core.display.Markdown object>"
      ]
     },
     "execution_count": 25,
     "metadata": {},
     "output_type": "execute_result"
    }
   ],
   "source": [
    "md(\"What does the score here mean?\\n\\nThe scoring method for this linear regression is R squared. This metric quantifies the amount of variance in the target variable that is predicted from the feature variables. Here `%0.1f` means that the model has `%0.1f percent`  accuracy predicting the `World Happiness` based upon the following 6 variables: \\n * gdp_per_capita\\n * social_support\\n * life_expectancy\\n * freedom\\n * clean_water_per_100_people\\n * doctors_per_10000_people \"%(RR_score_percentage,RR_score_percentage))"
   ]
  },
  {
   "cell_type": "markdown",
   "metadata": {},
   "source": [
    "#### Coefficients and Intercept"
   ]
  },
  {
   "cell_type": "code",
   "execution_count": 26,
   "metadata": {},
   "outputs": [
    {
     "name": "stdout",
     "output_type": "stream",
     "text": [
      "Coefficients :  [0.1314858  0.02507267 0.07981742 0.03638172 0.00169572 0.00843819]\n",
      "Intercept =  -1.1574320168484507\n"
     ]
    }
   ],
   "source": [
    "print(\"Coefficients : \", RR_model.coef_)\n",
    "print(\"Intercept = \", RR_model.intercept_)"
   ]
  },
  {
   "cell_type": "markdown",
   "metadata": {},
   "source": [
    "# Lasso Regression\n",
    "\n",
    "#### Make an object of the class LassoRegression followed by fit method which fits the regressor to the training data"
   ]
  },
  {
   "cell_type": "code",
   "execution_count": 27,
   "metadata": {},
   "outputs": [
    {
     "data": {
      "text/plain": [
       "Lasso(alpha=1.0, copy_X=True, fit_intercept=True, max_iter=1000,\n",
       "   normalize=False, positive=False, precompute=False, random_state=None,\n",
       "   selection='cyclic', tol=0.0001, warm_start=False)"
      ]
     },
     "execution_count": 27,
     "metadata": {},
     "output_type": "execute_result"
    }
   ],
   "source": [
    "# Use sklearn to train a model on the training set\n",
    "LR_model = Lasso(alpha=1.0)\n",
    "LR_model.fit(X_train, y_train)"
   ]
  },
  {
   "cell_type": "markdown",
   "metadata": {},
   "source": [
    "#### Call predict method on the actual dataset"
   ]
  },
  {
   "cell_type": "code",
   "execution_count": 28,
   "metadata": {},
   "outputs": [],
   "source": [
    "# Create a sample datapoint and predict the output of that sample with the trained model\n",
    "LR_y_pred = LR_model.predict(X_test)"
   ]
  },
  {
   "cell_type": "markdown",
   "metadata": {},
   "source": [
    "#### Make a dataframe to compare the actual vs predicted"
   ]
  },
  {
   "cell_type": "code",
   "execution_count": 29,
   "metadata": {
    "scrolled": true
   },
   "outputs": [
    {
     "data": {
      "text/html": [
       "<div>\n",
       "<style scoped>\n",
       "    .dataframe tbody tr th:only-of-type {\n",
       "        vertical-align: middle;\n",
       "    }\n",
       "\n",
       "    .dataframe tbody tr th {\n",
       "        vertical-align: top;\n",
       "    }\n",
       "\n",
       "    .dataframe thead th {\n",
       "        text-align: right;\n",
       "    }\n",
       "</style>\n",
       "<table border=\"1\" class=\"dataframe\">\n",
       "  <thead>\n",
       "    <tr style=\"text-align: right;\">\n",
       "      <th></th>\n",
       "      <th>Actual</th>\n",
       "      <th>Predicted</th>\n",
       "    </tr>\n",
       "  </thead>\n",
       "  <tbody>\n",
       "    <tr>\n",
       "      <th>82</th>\n",
       "      <td>5.863883</td>\n",
       "      <td>5.830253</td>\n",
       "    </tr>\n",
       "    <tr>\n",
       "      <th>86</th>\n",
       "      <td>5.019815</td>\n",
       "      <td>5.017397</td>\n",
       "    </tr>\n",
       "    <tr>\n",
       "      <th>67</th>\n",
       "      <td>6.273742</td>\n",
       "      <td>5.878304</td>\n",
       "    </tr>\n",
       "    <tr>\n",
       "      <th>110</th>\n",
       "      <td>4.112052</td>\n",
       "      <td>3.809503</td>\n",
       "    </tr>\n",
       "    <tr>\n",
       "      <th>139</th>\n",
       "      <td>3.882689</td>\n",
       "      <td>4.290565</td>\n",
       "    </tr>\n",
       "  </tbody>\n",
       "</table>\n",
       "</div>"
      ],
      "text/plain": [
       "       Actual  Predicted\n",
       "82   5.863883   5.830253\n",
       "86   5.019815   5.017397\n",
       "67   6.273742   5.878304\n",
       "110  4.112052   3.809503\n",
       "139  3.882689   4.290565"
      ]
     },
     "execution_count": 29,
     "metadata": {},
     "output_type": "execute_result"
    }
   ],
   "source": [
    "LR_compare_actual_predicted = pd.DataFrame({\"Actual\" : y_test, 'Predicted' : LR_y_pred})\n",
    "LR_compare_actual_predicted.head()"
   ]
  },
  {
   "cell_type": "markdown",
   "metadata": {},
   "source": [
    "#### Score of our Lasso Regression Model"
   ]
  },
  {
   "cell_type": "code",
   "execution_count": 30,
   "metadata": {},
   "outputs": [
    {
     "name": "stdout",
     "output_type": "stream",
     "text": [
      "Score =  0.7260747903039244\n"
     ]
    }
   ],
   "source": [
    "# Report on the score for that model, in your own words (markdown, not code) explain what the score means\n",
    "LR_score = LR_model.score(X_test, y_test)\n",
    "LR_score_percentage = LR_score*100\n",
    "print(\"Score = \", LR_score)"
   ]
  },
  {
   "cell_type": "code",
   "execution_count": 31,
   "metadata": {},
   "outputs": [
    {
     "data": {
      "text/markdown": [
       "What does the score here mean?\n",
       "\n",
       "The scoring method for this linear regression is R squared. This metric quantifies the amount of variance in the target variable that is predicted from the feature variables. Here `72.6` means that the model has `72.6 percent`  accuracy predicting the `World Happiness` based upon the following 6 variables: \n",
       " * gdp_per_capita\n",
       " * social_support\n",
       " * life_expectancy\n",
       " * freedom\n",
       " * clean_water_per_100_people\n",
       " * doctors_per_10000_people "
      ],
      "text/plain": [
       "<IPython.core.display.Markdown object>"
      ]
     },
     "execution_count": 31,
     "metadata": {},
     "output_type": "execute_result"
    }
   ],
   "source": [
    "md(\"What does the score here mean?\\n\\nThe scoring method for this linear regression is R squared. This metric quantifies the amount of variance in the target variable that is predicted from the feature variables. Here `%0.1f` means that the model has `%0.1f percent`  accuracy predicting the `World Happiness` based upon the following 6 variables: \\n * gdp_per_capita\\n * social_support\\n * life_expectancy\\n * freedom\\n * clean_water_per_100_people\\n * doctors_per_10000_people \"%(LR_score_percentage,LR_score_percentage))"
   ]
  },
  {
   "cell_type": "markdown",
   "metadata": {},
   "source": [
    "#### Coefficients and Intercept"
   ]
  },
  {
   "cell_type": "code",
   "execution_count": 32,
   "metadata": {},
   "outputs": [
    {
     "name": "stdout",
     "output_type": "stream",
     "text": [
      "Coefficients :  [0.         0.         0.04977819 0.         0.01316393 0.01132003]\n",
      "Intercept =  1.0504513623749165\n"
     ]
    }
   ],
   "source": [
    "print(\"Coefficients : \", LR_model.coef_)\n",
    "print(\"Intercept = \", LR_model.intercept_)"
   ]
  },
  {
   "cell_type": "code",
   "execution_count": null,
   "metadata": {},
   "outputs": [],
   "source": []
  }
 ],
 "metadata": {
  "kernelspec": {
   "display_name": "Python 3",
   "language": "python",
   "name": "python3"
  },
  "language_info": {
   "codemirror_mode": {
    "name": "ipython",
    "version": 3
   },
   "file_extension": ".py",
   "mimetype": "text/x-python",
   "name": "python",
   "nbconvert_exporter": "python",
   "pygments_lexer": "ipython3",
   "version": "3.7.9"
  }
 },
 "nbformat": 4,
 "nbformat_minor": 4
}
