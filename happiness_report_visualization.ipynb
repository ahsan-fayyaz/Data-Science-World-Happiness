{
 "cells": [
  {
   "cell_type": "markdown",
   "metadata": {},
   "source": [
    "# Import all necessary modules"
   ]
  },
  {
   "cell_type": "code",
   "execution_count": 1,
   "metadata": {},
   "outputs": [],
   "source": [
    "import numpy as np\n",
    "import pandas as pd \n",
    "import matplotlib.pyplot as plt\n",
    "import seaborn as sb\n",
    "import matplotlib.image as mpimg\n",
    "import scipy.stats as stats\n",
    "\n",
    "import numpy as np\n",
    "import pandas as pd\n",
    "import matplotlib as mpl\n",
    "import matplotlib.pyplot as plt\n",
    "import seaborn as sns\n",
    "import warnings; warnings.filterwarnings(action='once')\n",
    "\n",
    "large = 22; med = 16; small = 12\n",
    "params = {'axes.titlesize': large,\n",
    "          'legend.fontsize': med,\n",
    "          'figure.figsize': (16, 10),\n",
    "          'axes.labelsize': med,\n",
    "          'axes.titlesize': med,\n",
    "          'xtick.labelsize': med,\n",
    "          'ytick.labelsize': med,\n",
    "          'figure.titlesize': large}\n",
    "plt.rcParams.update(params)\n",
    "plt.style.use('seaborn-whitegrid')\n",
    "sns.set_style(\"white\")\n",
    "%matplotlib inline\n",
    "\n",
    "import warnings\n",
    "warnings.filterwarnings('ignore')"
   ]
  },
  {
   "cell_type": "markdown",
   "metadata": {},
   "source": [
    "# Import Full Dataset"
   ]
  },
  {
   "cell_type": "code",
   "execution_count": 2,
   "metadata": {},
   "outputs": [
    {
     "data": {
      "text/html": [
       "<div>\n",
       "<style scoped>\n",
       "    .dataframe tbody tr th:only-of-type {\n",
       "        vertical-align: middle;\n",
       "    }\n",
       "\n",
       "    .dataframe tbody tr th {\n",
       "        vertical-align: top;\n",
       "    }\n",
       "\n",
       "    .dataframe thead th {\n",
       "        text-align: right;\n",
       "    }\n",
       "</style>\n",
       "<table border=\"1\" class=\"dataframe\">\n",
       "  <thead>\n",
       "    <tr style=\"text-align: right;\">\n",
       "      <th></th>\n",
       "      <th>country</th>\n",
       "      <th>happiness_score</th>\n",
       "      <th>gdp_per_capita</th>\n",
       "      <th>social_support</th>\n",
       "      <th>life_expectancy</th>\n",
       "      <th>freedom</th>\n",
       "      <th>corruption</th>\n",
       "      <th>clean_water_per_100_people</th>\n",
       "      <th>suicide_rate_per_100000_people</th>\n",
       "      <th>doctors_per_10000_people</th>\n",
       "    </tr>\n",
       "  </thead>\n",
       "  <tbody>\n",
       "    <tr>\n",
       "      <th>0</th>\n",
       "      <td>Afghanistan</td>\n",
       "      <td>3.594628</td>\n",
       "      <td>7.650843</td>\n",
       "      <td>0.508245</td>\n",
       "      <td>52.266667</td>\n",
       "      <td>0.518012</td>\n",
       "      <td>0.843283</td>\n",
       "      <td>37.755000</td>\n",
       "      <td>4.300000</td>\n",
       "      <td>2.322500</td>\n",
       "    </tr>\n",
       "    <tr>\n",
       "      <th>1</th>\n",
       "      <td>Albania</td>\n",
       "      <td>5.019427</td>\n",
       "      <td>9.384397</td>\n",
       "      <td>0.716316</td>\n",
       "      <td>67.546154</td>\n",
       "      <td>0.662830</td>\n",
       "      <td>0.869360</td>\n",
       "      <td>84.061667</td>\n",
       "      <td>5.193333</td>\n",
       "      <td>13.092727</td>\n",
       "    </tr>\n",
       "    <tr>\n",
       "      <th>2</th>\n",
       "      <td>Algeria</td>\n",
       "      <td>5.389717</td>\n",
       "      <td>9.328897</td>\n",
       "      <td>0.803582</td>\n",
       "      <td>65.290000</td>\n",
       "      <td>0.519009</td>\n",
       "      <td>0.690871</td>\n",
       "      <td>86.305000</td>\n",
       "      <td>2.880000</td>\n",
       "      <td>14.450000</td>\n",
       "    </tr>\n",
       "    <tr>\n",
       "      <th>3</th>\n",
       "      <td>Angola</td>\n",
       "      <td>4.420299</td>\n",
       "      <td>8.989725</td>\n",
       "      <td>0.737973</td>\n",
       "      <td>53.550000</td>\n",
       "      <td>0.455957</td>\n",
       "      <td>0.867018</td>\n",
       "      <td>24.313889</td>\n",
       "      <td>5.200000</td>\n",
       "      <td>1.167500</td>\n",
       "    </tr>\n",
       "    <tr>\n",
       "      <th>4</th>\n",
       "      <td>Argentina</td>\n",
       "      <td>6.310166</td>\n",
       "      <td>10.033868</td>\n",
       "      <td>0.904423</td>\n",
       "      <td>67.900000</td>\n",
       "      <td>0.768254</td>\n",
       "      <td>0.841997</td>\n",
       "      <td>87.365556</td>\n",
       "      <td>7.280000</td>\n",
       "      <td>34.327143</td>\n",
       "    </tr>\n",
       "    <tr>\n",
       "      <th>5</th>\n",
       "      <td>Armenia</td>\n",
       "      <td>4.513624</td>\n",
       "      <td>9.270409</td>\n",
       "      <td>0.718620</td>\n",
       "      <td>65.742857</td>\n",
       "      <td>0.563791</td>\n",
       "      <td>0.846484</td>\n",
       "      <td>94.861667</td>\n",
       "      <td>4.240000</td>\n",
       "      <td>20.320741</td>\n",
       "    </tr>\n",
       "    <tr>\n",
       "      <th>6</th>\n",
       "      <td>Australia</td>\n",
       "      <td>7.282024</td>\n",
       "      <td>10.755507</td>\n",
       "      <td>0.947253</td>\n",
       "      <td>72.692857</td>\n",
       "      <td>0.921648</td>\n",
       "      <td>0.415422</td>\n",
       "      <td>99.566111</td>\n",
       "      <td>10.360000</td>\n",
       "      <td>31.455333</td>\n",
       "    </tr>\n",
       "    <tr>\n",
       "      <th>7</th>\n",
       "      <td>Austria</td>\n",
       "      <td>7.242227</td>\n",
       "      <td>10.886958</td>\n",
       "      <td>0.929600</td>\n",
       "      <td>72.103077</td>\n",
       "      <td>0.906196</td>\n",
       "      <td>0.570189</td>\n",
       "      <td>100.000000</td>\n",
       "      <td>13.993333</td>\n",
       "      <td>41.785357</td>\n",
       "    </tr>\n",
       "    <tr>\n",
       "      <th>8</th>\n",
       "      <td>Azerbaijan</td>\n",
       "      <td>4.940989</td>\n",
       "      <td>9.519592</td>\n",
       "      <td>0.770649</td>\n",
       "      <td>63.942857</td>\n",
       "      <td>0.662107</td>\n",
       "      <td>0.698330</td>\n",
       "      <td>69.972778</td>\n",
       "      <td>2.246667</td>\n",
       "      <td>36.266000</td>\n",
       "    </tr>\n",
       "    <tr>\n",
       "      <th>9</th>\n",
       "      <td>Bahrain</td>\n",
       "      <td>6.001723</td>\n",
       "      <td>10.730848</td>\n",
       "      <td>0.880093</td>\n",
       "      <td>67.594546</td>\n",
       "      <td>0.861467</td>\n",
       "      <td>0.553173</td>\n",
       "      <td>99.969444</td>\n",
       "      <td>4.633333</td>\n",
       "      <td>9.936875</td>\n",
       "    </tr>\n",
       "    <tr>\n",
       "      <th>10</th>\n",
       "      <td>Bangladesh</td>\n",
       "      <td>4.754565</td>\n",
       "      <td>8.128453</td>\n",
       "      <td>0.607105</td>\n",
       "      <td>62.040000</td>\n",
       "      <td>0.750763</td>\n",
       "      <td>0.742666</td>\n",
       "      <td>95.513333</td>\n",
       "      <td>5.100000</td>\n",
       "      <td>3.892941</td>\n",
       "    </tr>\n",
       "    <tr>\n",
       "      <th>11</th>\n",
       "      <td>Belarus</td>\n",
       "      <td>5.571155</td>\n",
       "      <td>9.760055</td>\n",
       "      <td>0.906551</td>\n",
       "      <td>63.750000</td>\n",
       "      <td>0.662002</td>\n",
       "      <td>0.671172</td>\n",
       "      <td>97.560000</td>\n",
       "      <td>31.533333</td>\n",
       "      <td>35.241923</td>\n",
       "    </tr>\n",
       "    <tr>\n",
       "      <th>12</th>\n",
       "      <td>Belgium</td>\n",
       "      <td>6.981520</td>\n",
       "      <td>10.798704</td>\n",
       "      <td>0.920018</td>\n",
       "      <td>71.228572</td>\n",
       "      <td>0.853521</td>\n",
       "      <td>0.619078</td>\n",
       "      <td>100.000000</td>\n",
       "      <td>17.146667</td>\n",
       "      <td>29.088421</td>\n",
       "    </tr>\n",
       "    <tr>\n",
       "      <th>13</th>\n",
       "      <td>Belize</td>\n",
       "      <td>6.203146</td>\n",
       "      <td>8.887803</td>\n",
       "      <td>0.814600</td>\n",
       "      <td>61.910000</td>\n",
       "      <td>0.789438</td>\n",
       "      <td>0.775545</td>\n",
       "      <td>90.672778</td>\n",
       "      <td>4.033333</td>\n",
       "      <td>9.230000</td>\n",
       "    </tr>\n",
       "    <tr>\n",
       "      <th>14</th>\n",
       "      <td>Benin</td>\n",
       "      <td>4.048055</td>\n",
       "      <td>7.985996</td>\n",
       "      <td>0.477167</td>\n",
       "      <td>52.933333</td>\n",
       "      <td>0.741412</td>\n",
       "      <td>0.784428</td>\n",
       "      <td>55.406111</td>\n",
       "      <td>7.780000</td>\n",
       "      <td>0.866250</td>\n",
       "    </tr>\n",
       "  </tbody>\n",
       "</table>\n",
       "</div>"
      ],
      "text/plain": [
       "        country  happiness_score  gdp_per_capita  social_support  \\\n",
       "0   Afghanistan         3.594628        7.650843        0.508245   \n",
       "1       Albania         5.019427        9.384397        0.716316   \n",
       "2       Algeria         5.389717        9.328897        0.803582   \n",
       "3        Angola         4.420299        8.989725        0.737973   \n",
       "4     Argentina         6.310166       10.033868        0.904423   \n",
       "5       Armenia         4.513624        9.270409        0.718620   \n",
       "6     Australia         7.282024       10.755507        0.947253   \n",
       "7       Austria         7.242227       10.886958        0.929600   \n",
       "8    Azerbaijan         4.940989        9.519592        0.770649   \n",
       "9       Bahrain         6.001723       10.730848        0.880093   \n",
       "10   Bangladesh         4.754565        8.128453        0.607105   \n",
       "11      Belarus         5.571155        9.760055        0.906551   \n",
       "12      Belgium         6.981520       10.798704        0.920018   \n",
       "13       Belize         6.203146        8.887803        0.814600   \n",
       "14        Benin         4.048055        7.985996        0.477167   \n",
       "\n",
       "    life_expectancy   freedom  corruption  clean_water_per_100_people  \\\n",
       "0         52.266667  0.518012    0.843283                   37.755000   \n",
       "1         67.546154  0.662830    0.869360                   84.061667   \n",
       "2         65.290000  0.519009    0.690871                   86.305000   \n",
       "3         53.550000  0.455957    0.867018                   24.313889   \n",
       "4         67.900000  0.768254    0.841997                   87.365556   \n",
       "5         65.742857  0.563791    0.846484                   94.861667   \n",
       "6         72.692857  0.921648    0.415422                   99.566111   \n",
       "7         72.103077  0.906196    0.570189                  100.000000   \n",
       "8         63.942857  0.662107    0.698330                   69.972778   \n",
       "9         67.594546  0.861467    0.553173                   99.969444   \n",
       "10        62.040000  0.750763    0.742666                   95.513333   \n",
       "11        63.750000  0.662002    0.671172                   97.560000   \n",
       "12        71.228572  0.853521    0.619078                  100.000000   \n",
       "13        61.910000  0.789438    0.775545                   90.672778   \n",
       "14        52.933333  0.741412    0.784428                   55.406111   \n",
       "\n",
       "    suicide_rate_per_100000_people  doctors_per_10000_people  \n",
       "0                         4.300000                  2.322500  \n",
       "1                         5.193333                 13.092727  \n",
       "2                         2.880000                 14.450000  \n",
       "3                         5.200000                  1.167500  \n",
       "4                         7.280000                 34.327143  \n",
       "5                         4.240000                 20.320741  \n",
       "6                        10.360000                 31.455333  \n",
       "7                        13.993333                 41.785357  \n",
       "8                         2.246667                 36.266000  \n",
       "9                         4.633333                  9.936875  \n",
       "10                        5.100000                  3.892941  \n",
       "11                       31.533333                 35.241923  \n",
       "12                       17.146667                 29.088421  \n",
       "13                        4.033333                  9.230000  \n",
       "14                        7.780000                  0.866250  "
      ]
     },
     "execution_count": 2,
     "metadata": {},
     "output_type": "execute_result"
    }
   ],
   "source": [
    "full_df = pd.read_csv(\"./Datasets/Cleaned_Datasets/full_dataset.csv\", header=0)\n",
    "full_df.head(15)"
   ]
  },
  {
   "cell_type": "markdown",
   "metadata": {},
   "source": [
    "# Data Correlation Visualizations"
   ]
  },
  {
   "cell_type": "markdown",
   "metadata": {},
   "source": [
    "Our dependent variable that we want to predict is `happiness_score` \n",
    "Taking a look at how different features correlate with it will help get a solid understanding of our data"
   ]
  },
  {
   "cell_type": "code",
   "execution_count": 3,
   "metadata": {
    "scrolled": false
   },
   "outputs": [
    {
     "data": {
      "text/plain": [
       "happiness_score                   1.000000\n",
       "gdp_per_capita                    0.846887\n",
       "life_expectancy                   0.820468\n",
       "social_support                    0.781526\n",
       "clean_water_per_100_people        0.731042\n",
       "doctors_per_10000_people          0.673451\n",
       "freedom                           0.632455\n",
       "suicide_rate_per_100000_people    0.236863\n",
       "corruption                       -0.487522\n",
       "Name: happiness_score, dtype: float64"
      ]
     },
     "execution_count": 3,
     "metadata": {},
     "output_type": "execute_result"
    }
   ],
   "source": [
    "full_df.corr(method=\"pearson\")[\"happiness_score\"].sort_values(ascending=False)"
   ]
  },
  {
   "cell_type": "markdown",
   "metadata": {},
   "source": [
    "####  Observation: world happiness has a \n",
    "* strong positive correlation with `gdp_per_capita`\n",
    "* strong positive correlation with `life_expectancy`               \n",
    "* strong positive correlation with `social_support`\n",
    "* strong positive correlation with `clean_water_per_100_people`\n",
    "* somewhat strong correlation with `freedom`\n",
    "* no correlation with `suicide_rate_per_100000_people`\n",
    "* inversely correlated with `corruption`"
   ]
  },
  {
   "cell_type": "markdown",
   "metadata": {},
   "source": [
    "### Heat Map (Correlation factor between each column)"
   ]
  },
  {
   "cell_type": "code",
   "execution_count": 4,
   "metadata": {
    "scrolled": true
   },
   "outputs": [
    {
     "data": {
      "text/plain": [
       "<matplotlib.axes._subplots.AxesSubplot at 0x7fb77db9e1d0>"
      ]
     },
     "execution_count": 4,
     "metadata": {},
     "output_type": "execute_result"
    },
    {
     "data": {
      "image/png": "[encoded data removed]",
      "text/plain": [
       "<Figure size 720x720 with 2 Axes>"
      ]
     },
     "metadata": {
      "needs_background": "light"
     },
     "output_type": "display_data"
    }
   ],
   "source": [
    "data_Corr = full_df.corr(method = \"pearson\")\n",
    "plt.figure(figsize = (10,10))\n",
    "sb.heatmap(data_Corr, annot = True)"
   ]
  },
  {
   "cell_type": "markdown",
   "metadata": {},
   "source": [
    "### Summary"
   ]
  },
  {
   "cell_type": "code",
   "execution_count": 5,
   "metadata": {},
   "outputs": [
    {
     "data": {
      "text/html": [
       "<div>\n",
       "<style scoped>\n",
       "    .dataframe tbody tr th:only-of-type {\n",
       "        vertical-align: middle;\n",
       "    }\n",
       "\n",
       "    .dataframe tbody tr th {\n",
       "        vertical-align: top;\n",
       "    }\n",
       "\n",
       "    .dataframe thead th {\n",
       "        text-align: right;\n",
       "    }\n",
       "</style>\n",
       "<table border=\"1\" class=\"dataframe\">\n",
       "  <thead>\n",
       "    <tr style=\"text-align: right;\">\n",
       "      <th></th>\n",
       "      <th>happiness_score</th>\n",
       "      <th>gdp_per_capita</th>\n",
       "      <th>social_support</th>\n",
       "      <th>life_expectancy</th>\n",
       "      <th>freedom</th>\n",
       "      <th>corruption</th>\n",
       "      <th>clean_water_per_100_people</th>\n",
       "      <th>suicide_rate_per_100000_people</th>\n",
       "      <th>doctors_per_10000_people</th>\n",
       "    </tr>\n",
       "  </thead>\n",
       "  <tbody>\n",
       "    <tr>\n",
       "      <th>count</th>\n",
       "      <td>140.000000</td>\n",
       "      <td>140.000000</td>\n",
       "      <td>140.000000</td>\n",
       "      <td>140.000000</td>\n",
       "      <td>140.000000</td>\n",
       "      <td>140.000000</td>\n",
       "      <td>140.000000</td>\n",
       "      <td>140.000000</td>\n",
       "      <td>140.000000</td>\n",
       "    </tr>\n",
       "    <tr>\n",
       "      <th>mean</th>\n",
       "      <td>5.424848</td>\n",
       "      <td>9.301535</td>\n",
       "      <td>0.805777</td>\n",
       "      <td>62.805440</td>\n",
       "      <td>0.741846</td>\n",
       "      <td>0.733355</td>\n",
       "      <td>77.711177</td>\n",
       "      <td>8.415738</td>\n",
       "      <td>16.016670</td>\n",
       "    </tr>\n",
       "    <tr>\n",
       "      <th>std</th>\n",
       "      <td>1.103782</td>\n",
       "      <td>1.212501</td>\n",
       "      <td>0.118027</td>\n",
       "      <td>7.636191</td>\n",
       "      <td>0.125386</td>\n",
       "      <td>0.183885</td>\n",
       "      <td>23.426713</td>\n",
       "      <td>5.965113</td>\n",
       "      <td>13.259219</td>\n",
       "    </tr>\n",
       "    <tr>\n",
       "      <th>min</th>\n",
       "      <td>3.514954</td>\n",
       "      <td>6.722510</td>\n",
       "      <td>0.402559</td>\n",
       "      <td>43.356001</td>\n",
       "      <td>0.451014</td>\n",
       "      <td>0.097752</td>\n",
       "      <td>21.435000</td>\n",
       "      <td>1.340000</td>\n",
       "      <td>0.226000</td>\n",
       "    </tr>\n",
       "    <tr>\n",
       "      <th>25%</th>\n",
       "      <td>4.465380</td>\n",
       "      <td>8.297707</td>\n",
       "      <td>0.745606</td>\n",
       "      <td>56.967857</td>\n",
       "      <td>0.662081</td>\n",
       "      <td>0.690242</td>\n",
       "      <td>59.039722</td>\n",
       "      <td>4.233333</td>\n",
       "      <td>2.963958</td>\n",
       "    </tr>\n",
       "    <tr>\n",
       "      <th>50%</th>\n",
       "      <td>5.309331</td>\n",
       "      <td>9.396615</td>\n",
       "      <td>0.826084</td>\n",
       "      <td>65.065667</td>\n",
       "      <td>0.745535</td>\n",
       "      <td>0.794771</td>\n",
       "      <td>85.709444</td>\n",
       "      <td>6.813333</td>\n",
       "      <td>14.540263</td>\n",
       "    </tr>\n",
       "    <tr>\n",
       "      <th>75%</th>\n",
       "      <td>6.263767</td>\n",
       "      <td>10.289785</td>\n",
       "      <td>0.902506</td>\n",
       "      <td>67.945536</td>\n",
       "      <td>0.832220</td>\n",
       "      <td>0.845422</td>\n",
       "      <td>98.410417</td>\n",
       "      <td>10.375000</td>\n",
       "      <td>27.518800</td>\n",
       "    </tr>\n",
       "    <tr>\n",
       "      <th>max</th>\n",
       "      <td>7.680305</td>\n",
       "      <td>11.607032</td>\n",
       "      <td>0.977578</td>\n",
       "      <td>75.358461</td>\n",
       "      <td>0.954373</td>\n",
       "      <td>0.953186</td>\n",
       "      <td>100.000000</td>\n",
       "      <td>34.500000</td>\n",
       "      <td>43.590345</td>\n",
       "    </tr>\n",
       "  </tbody>\n",
       "</table>\n",
       "</div>"
      ],
      "text/plain": [
       "       happiness_score  gdp_per_capita  social_support  life_expectancy  \\\n",
       "count       140.000000      140.000000      140.000000       140.000000   \n",
       "mean          5.424848        9.301535        0.805777        62.805440   \n",
       "std           1.103782        1.212501        0.118027         7.636191   \n",
       "min           3.514954        6.722510        0.402559        43.356001   \n",
       "25%           4.465380        8.297707        0.745606        56.967857   \n",
       "50%           5.309331        9.396615        0.826084        65.065667   \n",
       "75%           6.263767       10.289785        0.902506        67.945536   \n",
       "max           7.680305       11.607032        0.977578        75.358461   \n",
       "\n",
       "          freedom  corruption  clean_water_per_100_people  \\\n",
       "count  140.000000  140.000000                  140.000000   \n",
       "mean     0.741846    0.733355                   77.711177   \n",
       "std      0.125386    0.183885                   23.426713   \n",
       "min      0.451014    0.097752                   21.435000   \n",
       "25%      0.662081    0.690242                   59.039722   \n",
       "50%      0.745535    0.794771                   85.709444   \n",
       "75%      0.832220    0.845422                   98.410417   \n",
       "max      0.954373    0.953186                  100.000000   \n",
       "\n",
       "       suicide_rate_per_100000_people  doctors_per_10000_people  \n",
       "count                      140.000000                140.000000  \n",
       "mean                         8.415738                 16.016670  \n",
       "std                          5.965113                 13.259219  \n",
       "min                          1.340000                  0.226000  \n",
       "25%                          4.233333                  2.963958  \n",
       "50%                          6.813333                 14.540263  \n",
       "75%                         10.375000                 27.518800  \n",
       "max                         34.500000                 43.590345  "
      ]
     },
     "execution_count": 5,
     "metadata": {},
     "output_type": "execute_result"
    }
   ],
   "source": [
    "full_df.describe()"
   ]
  },
  {
   "cell_type": "markdown",
   "metadata": {},
   "source": [
    "### Top Ten Most Happiest Country "
   ]
  },
  {
   "cell_type": "code",
   "execution_count": 6,
   "metadata": {},
   "outputs": [
    {
     "data": {
      "text/html": [
       "<div>\n",
       "<style scoped>\n",
       "    .dataframe tbody tr th:only-of-type {\n",
       "        vertical-align: middle;\n",
       "    }\n",
       "\n",
       "    .dataframe tbody tr th {\n",
       "        vertical-align: top;\n",
       "    }\n",
       "\n",
       "    .dataframe thead th {\n",
       "        text-align: right;\n",
       "    }\n",
       "</style>\n",
       "<table border=\"1\" class=\"dataframe\">\n",
       "  <thead>\n",
       "    <tr style=\"text-align: right;\">\n",
       "      <th></th>\n",
       "      <th>country</th>\n",
       "      <th>happiness_score</th>\n",
       "      <th>gdp_per_capita</th>\n",
       "      <th>social_support</th>\n",
       "      <th>life_expectancy</th>\n",
       "      <th>freedom</th>\n",
       "      <th>corruption</th>\n",
       "      <th>clean_water_per_100_people</th>\n",
       "      <th>suicide_rate_per_100000_people</th>\n",
       "      <th>doctors_per_10000_people</th>\n",
       "    </tr>\n",
       "  </thead>\n",
       "  <tbody>\n",
       "    <tr>\n",
       "      <th>33</th>\n",
       "      <td>Denmark</td>\n",
       "      <td>7.680305</td>\n",
       "      <td>10.879287</td>\n",
       "      <td>0.957209</td>\n",
       "      <td>71.169333</td>\n",
       "      <td>0.945131</td>\n",
       "      <td>0.200404</td>\n",
       "      <td>100.000000</td>\n",
       "      <td>11.393333</td>\n",
       "      <td>31.951481</td>\n",
       "    </tr>\n",
       "    <tr>\n",
       "      <th>41</th>\n",
       "      <td>Finland</td>\n",
       "      <td>7.597216</td>\n",
       "      <td>10.749943</td>\n",
       "      <td>0.948971</td>\n",
       "      <td>71.180000</td>\n",
       "      <td>0.939703</td>\n",
       "      <td>0.248932</td>\n",
       "      <td>100.000000</td>\n",
       "      <td>15.753333</td>\n",
       "      <td>30.958261</td>\n",
       "    </tr>\n",
       "    <tr>\n",
       "      <th>121</th>\n",
       "      <td>Switzerland</td>\n",
       "      <td>7.548228</td>\n",
       "      <td>11.095401</td>\n",
       "      <td>0.943610</td>\n",
       "      <td>73.334000</td>\n",
       "      <td>0.924874</td>\n",
       "      <td>0.305930</td>\n",
       "      <td>100.000000</td>\n",
       "      <td>15.226667</td>\n",
       "      <td>38.462105</td>\n",
       "    </tr>\n",
       "    <tr>\n",
       "      <th>96</th>\n",
       "      <td>Norway</td>\n",
       "      <td>7.512566</td>\n",
       "      <td>11.039174</td>\n",
       "      <td>0.950364</td>\n",
       "      <td>72.670000</td>\n",
       "      <td>0.954373</td>\n",
       "      <td>0.344084</td>\n",
       "      <td>100.000000</td>\n",
       "      <td>10.186667</td>\n",
       "      <td>22.731579</td>\n",
       "    </tr>\n",
       "    <tr>\n",
       "      <th>91</th>\n",
       "      <td>Netherlands</td>\n",
       "      <td>7.466292</td>\n",
       "      <td>10.886792</td>\n",
       "      <td>0.933519</td>\n",
       "      <td>71.707143</td>\n",
       "      <td>0.907514</td>\n",
       "      <td>0.414888</td>\n",
       "      <td>100.000000</td>\n",
       "      <td>8.446667</td>\n",
       "      <td>29.158000</td>\n",
       "    </tr>\n",
       "    <tr>\n",
       "      <th>55</th>\n",
       "      <td>Iceland</td>\n",
       "      <td>7.446581</td>\n",
       "      <td>10.860745</td>\n",
       "      <td>0.977578</td>\n",
       "      <td>72.865000</td>\n",
       "      <td>0.931504</td>\n",
       "      <td>0.700852</td>\n",
       "      <td>100.000000</td>\n",
       "      <td>11.133333</td>\n",
       "      <td>35.108000</td>\n",
       "    </tr>\n",
       "    <tr>\n",
       "      <th>24</th>\n",
       "      <td>Canada</td>\n",
       "      <td>7.376319</td>\n",
       "      <td>10.748257</td>\n",
       "      <td>0.935470</td>\n",
       "      <td>72.694666</td>\n",
       "      <td>0.928000</td>\n",
       "      <td>0.417746</td>\n",
       "      <td>98.451667</td>\n",
       "      <td>10.366667</td>\n",
       "      <td>23.110000</td>\n",
       "    </tr>\n",
       "    <tr>\n",
       "      <th>120</th>\n",
       "      <td>Sweden</td>\n",
       "      <td>7.369527</td>\n",
       "      <td>10.819609</td>\n",
       "      <td>0.927842</td>\n",
       "      <td>72.110667</td>\n",
       "      <td>0.929564</td>\n",
       "      <td>0.262804</td>\n",
       "      <td>100.000000</td>\n",
       "      <td>12.600000</td>\n",
       "      <td>35.310909</td>\n",
       "    </tr>\n",
       "    <tr>\n",
       "      <th>92</th>\n",
       "      <td>New Zealand</td>\n",
       "      <td>7.310304</td>\n",
       "      <td>10.583125</td>\n",
       "      <td>0.952875</td>\n",
       "      <td>72.428571</td>\n",
       "      <td>0.923126</td>\n",
       "      <td>0.266145</td>\n",
       "      <td>100.000000</td>\n",
       "      <td>10.346667</td>\n",
       "      <td>30.370000</td>\n",
       "    </tr>\n",
       "    <tr>\n",
       "      <th>6</th>\n",
       "      <td>Australia</td>\n",
       "      <td>7.282024</td>\n",
       "      <td>10.755507</td>\n",
       "      <td>0.947253</td>\n",
       "      <td>72.692857</td>\n",
       "      <td>0.921648</td>\n",
       "      <td>0.415422</td>\n",
       "      <td>99.566111</td>\n",
       "      <td>10.360000</td>\n",
       "      <td>31.455333</td>\n",
       "    </tr>\n",
       "  </tbody>\n",
       "</table>\n",
       "</div>"
      ],
      "text/plain": [
       "         country  happiness_score  gdp_per_capita  social_support  \\\n",
       "33       Denmark         7.680305       10.879287        0.957209   \n",
       "41       Finland         7.597216       10.749943        0.948971   \n",
       "121  Switzerland         7.548228       11.095401        0.943610   \n",
       "96        Norway         7.512566       11.039174        0.950364   \n",
       "91   Netherlands         7.466292       10.886792        0.933519   \n",
       "55       Iceland         7.446581       10.860745        0.977578   \n",
       "24        Canada         7.376319       10.748257        0.935470   \n",
       "120       Sweden         7.369527       10.819609        0.927842   \n",
       "92   New Zealand         7.310304       10.583125        0.952875   \n",
       "6      Australia         7.282024       10.755507        0.947253   \n",
       "\n",
       "     life_expectancy   freedom  corruption  clean_water_per_100_people  \\\n",
       "33         71.169333  0.945131    0.200404                  100.000000   \n",
       "41         71.180000  0.939703    0.248932                  100.000000   \n",
       "121        73.334000  0.924874    0.305930                  100.000000   \n",
       "96         72.670000  0.954373    0.344084                  100.000000   \n",
       "91         71.707143  0.907514    0.414888                  100.000000   \n",
       "55         72.865000  0.931504    0.700852                  100.000000   \n",
       "24         72.694666  0.928000    0.417746                   98.451667   \n",
       "120        72.110667  0.929564    0.262804                  100.000000   \n",
       "92         72.428571  0.923126    0.266145                  100.000000   \n",
       "6          72.692857  0.921648    0.415422                   99.566111   \n",
       "\n",
       "     suicide_rate_per_100000_people  doctors_per_10000_people  \n",
       "33                        11.393333                 31.951481  \n",
       "41                        15.753333                 30.958261  \n",
       "121                       15.226667                 38.462105  \n",
       "96                        10.186667                 22.731579  \n",
       "91                         8.446667                 29.158000  \n",
       "55                        11.133333                 35.108000  \n",
       "24                        10.366667                 23.110000  \n",
       "120                       12.600000                 35.310909  \n",
       "92                        10.346667                 30.370000  \n",
       "6                         10.360000                 31.455333  "
      ]
     },
     "execution_count": 6,
     "metadata": {},
     "output_type": "execute_result"
    }
   ],
   "source": [
    "full_df.sort_values(by = \"happiness_score\", ascending = False). head(10)"
   ]
  },
  {
   "cell_type": "markdown",
   "metadata": {},
   "source": [
    "### Top Ten least happiest country"
   ]
  },
  {
   "cell_type": "code",
   "execution_count": 7,
   "metadata": {},
   "outputs": [
    {
     "data": {
      "text/html": [
       "<div>\n",
       "<style scoped>\n",
       "    .dataframe tbody tr th:only-of-type {\n",
       "        vertical-align: middle;\n",
       "    }\n",
       "\n",
       "    .dataframe tbody tr th {\n",
       "        vertical-align: top;\n",
       "    }\n",
       "\n",
       "    .dataframe thead th {\n",
       "        text-align: right;\n",
       "    }\n",
       "</style>\n",
       "<table border=\"1\" class=\"dataframe\">\n",
       "  <thead>\n",
       "    <tr style=\"text-align: right;\">\n",
       "      <th></th>\n",
       "      <th>country</th>\n",
       "      <th>happiness_score</th>\n",
       "      <th>gdp_per_capita</th>\n",
       "      <th>social_support</th>\n",
       "      <th>life_expectancy</th>\n",
       "      <th>freedom</th>\n",
       "      <th>corruption</th>\n",
       "      <th>clean_water_per_100_people</th>\n",
       "      <th>suicide_rate_per_100000_people</th>\n",
       "      <th>doctors_per_10000_people</th>\n",
       "    </tr>\n",
       "  </thead>\n",
       "  <tbody>\n",
       "    <tr>\n",
       "      <th>25</th>\n",
       "      <td>Central African Republic</td>\n",
       "      <td>3.514954</td>\n",
       "      <td>6.960998</td>\n",
       "      <td>0.402559</td>\n",
       "      <td>43.356001</td>\n",
       "      <td>0.680430</td>\n",
       "      <td>0.842129</td>\n",
       "      <td>37.747059</td>\n",
       "      <td>7.060000</td>\n",
       "      <td>0.610000</td>\n",
       "    </tr>\n",
       "    <tr>\n",
       "      <th>21</th>\n",
       "      <td>Burundi</td>\n",
       "      <td>3.548124</td>\n",
       "      <td>6.722510</td>\n",
       "      <td>0.417652</td>\n",
       "      <td>50.916000</td>\n",
       "      <td>0.451014</td>\n",
       "      <td>0.732270</td>\n",
       "      <td>52.188889</td>\n",
       "      <td>6.706667</td>\n",
       "      <td>0.550000</td>\n",
       "    </tr>\n",
       "    <tr>\n",
       "      <th>126</th>\n",
       "      <td>Togo</td>\n",
       "      <td>3.555060</td>\n",
       "      <td>7.239263</td>\n",
       "      <td>0.456104</td>\n",
       "      <td>52.837778</td>\n",
       "      <td>0.623363</td>\n",
       "      <td>0.803149</td>\n",
       "      <td>39.016667</td>\n",
       "      <td>7.693333</td>\n",
       "      <td>0.718750</td>\n",
       "    </tr>\n",
       "    <tr>\n",
       "      <th>0</th>\n",
       "      <td>Afghanistan</td>\n",
       "      <td>3.594628</td>\n",
       "      <td>7.650843</td>\n",
       "      <td>0.508245</td>\n",
       "      <td>52.266667</td>\n",
       "      <td>0.518012</td>\n",
       "      <td>0.843283</td>\n",
       "      <td>37.755000</td>\n",
       "      <td>4.300000</td>\n",
       "      <td>2.322500</td>\n",
       "    </tr>\n",
       "    <tr>\n",
       "      <th>106</th>\n",
       "      <td>Rwanda</td>\n",
       "      <td>3.654473</td>\n",
       "      <td>7.451130</td>\n",
       "      <td>0.619421</td>\n",
       "      <td>57.586667</td>\n",
       "      <td>0.868012</td>\n",
       "      <td>0.185955</td>\n",
       "      <td>46.741111</td>\n",
       "      <td>8.193333</td>\n",
       "      <td>1.018571</td>\n",
       "    </tr>\n",
       "    <tr>\n",
       "      <th>124</th>\n",
       "      <td>Tanzania</td>\n",
       "      <td>3.697284</td>\n",
       "      <td>7.700381</td>\n",
       "      <td>0.763801</td>\n",
       "      <td>54.173333</td>\n",
       "      <td>0.714177</td>\n",
       "      <td>0.767719</td>\n",
       "      <td>28.953889</td>\n",
       "      <td>4.626667</td>\n",
       "      <td>0.322500</td>\n",
       "    </tr>\n",
       "    <tr>\n",
       "      <th>139</th>\n",
       "      <td>Zimbabwe</td>\n",
       "      <td>3.882689</td>\n",
       "      <td>7.850429</td>\n",
       "      <td>0.799474</td>\n",
       "      <td>50.233333</td>\n",
       "      <td>0.587849</td>\n",
       "      <td>0.844158</td>\n",
       "      <td>55.077778</td>\n",
       "      <td>9.946667</td>\n",
       "      <td>1.285294</td>\n",
       "    </tr>\n",
       "    <tr>\n",
       "      <th>137</th>\n",
       "      <td>Yemen</td>\n",
       "      <td>3.912124</td>\n",
       "      <td>8.102699</td>\n",
       "      <td>0.739803</td>\n",
       "      <td>54.866666</td>\n",
       "      <td>0.622404</td>\n",
       "      <td>0.824832</td>\n",
       "      <td>40.171667</td>\n",
       "      <td>6.426667</td>\n",
       "      <td>3.484000</td>\n",
       "    </tr>\n",
       "    <tr>\n",
       "      <th>29</th>\n",
       "      <td>Comoros</td>\n",
       "      <td>3.943963</td>\n",
       "      <td>7.991248</td>\n",
       "      <td>0.674189</td>\n",
       "      <td>55.686667</td>\n",
       "      <td>0.528113</td>\n",
       "      <td>0.752968</td>\n",
       "      <td>83.136667</td>\n",
       "      <td>4.980000</td>\n",
       "      <td>2.030000</td>\n",
       "    </tr>\n",
       "    <tr>\n",
       "      <th>52</th>\n",
       "      <td>Haiti</td>\n",
       "      <td>3.954194</td>\n",
       "      <td>7.446694</td>\n",
       "      <td>0.616196</td>\n",
       "      <td>47.049091</td>\n",
       "      <td>0.461764</td>\n",
       "      <td>0.752033</td>\n",
       "      <td>41.611111</td>\n",
       "      <td>8.046667</td>\n",
       "      <td>1.737500</td>\n",
       "    </tr>\n",
       "  </tbody>\n",
       "</table>\n",
       "</div>"
      ],
      "text/plain": [
       "                      country  happiness_score  gdp_per_capita  \\\n",
       "25   Central African Republic         3.514954        6.960998   \n",
       "21                    Burundi         3.548124        6.722510   \n",
       "126                      Togo         3.555060        7.239263   \n",
       "0                 Afghanistan         3.594628        7.650843   \n",
       "106                    Rwanda         3.654473        7.451130   \n",
       "124                  Tanzania         3.697284        7.700381   \n",
       "139                  Zimbabwe         3.882689        7.850429   \n",
       "137                     Yemen         3.912124        8.102699   \n",
       "29                    Comoros         3.943963        7.991248   \n",
       "52                      Haiti         3.954194        7.446694   \n",
       "\n",
       "     social_support  life_expectancy   freedom  corruption  \\\n",
       "25         0.402559        43.356001  0.680430    0.842129   \n",
       "21         0.417652        50.916000  0.451014    0.732270   \n",
       "126        0.456104        52.837778  0.623363    0.803149   \n",
       "0          0.508245        52.266667  0.518012    0.843283   \n",
       "106        0.619421        57.586667  0.868012    0.185955   \n",
       "124        0.763801        54.173333  0.714177    0.767719   \n",
       "139        0.799474        50.233333  0.587849    0.844158   \n",
       "137        0.739803        54.866666  0.622404    0.824832   \n",
       "29         0.674189        55.686667  0.528113    0.752968   \n",
       "52         0.616196        47.049091  0.461764    0.752033   \n",
       "\n",
       "     clean_water_per_100_people  suicide_rate_per_100000_people  \\\n",
       "25                    37.747059                        7.060000   \n",
       "21                    52.188889                        6.706667   \n",
       "126                   39.016667                        7.693333   \n",
       "0                     37.755000                        4.300000   \n",
       "106                   46.741111                        8.193333   \n",
       "124                   28.953889                        4.626667   \n",
       "139                   55.077778                        9.946667   \n",
       "137                   40.171667                        6.426667   \n",
       "29                    83.136667                        4.980000   \n",
       "52                    41.611111                        8.046667   \n",
       "\n",
       "     doctors_per_10000_people  \n",
       "25                   0.610000  \n",
       "21                   0.550000  \n",
       "126                  0.718750  \n",
       "0                    2.322500  \n",
       "106                  1.018571  \n",
       "124                  0.322500  \n",
       "139                  1.285294  \n",
       "137                  3.484000  \n",
       "29                   2.030000  \n",
       "52                   1.737500  "
      ]
     },
     "execution_count": 7,
     "metadata": {},
     "output_type": "execute_result"
    }
   ],
   "source": [
    "full_df.sort_values(by = \"happiness_score\", ascending = True). head(10)"
   ]
  },
  {
   "cell_type": "code",
   "execution_count": 8,
   "metadata": {
    "scrolled": true
   },
   "outputs": [
    {
     "data": {
      "text/plain": [
       "<seaborn.axisgrid.FacetGrid at 0x7fb77de2bf90>"
      ]
     },
     "execution_count": 8,
     "metadata": {},
     "output_type": "execute_result"
    },
    {
     "data": {
      "image/png": "[encoded data removed]",
      "text/plain": [
       "<Figure size 360x360 with 1 Axes>"
      ]
     },
     "metadata": {
      "needs_background": "light"
     },
     "output_type": "display_data"
    }
   ],
   "source": [
    "sb.displot(full_df['happiness_score'], kind=\"kde\")"
   ]
  },
  {
   "cell_type": "markdown",
   "metadata": {},
   "source": [
    "*** "
   ]
  },
  {
   "cell_type": "markdown",
   "metadata": {},
   "source": [
    "### Helper Functions"
   ]
  },
  {
   "cell_type": "code",
   "execution_count": 49,
   "metadata": {},
   "outputs": [],
   "source": [
    "# This function will help to evaluate linear relationship for two variables\n",
    "\n",
    "def evaluate_linear_relationship(a, b):\n",
    "    slope = np.cov(a, b, bias=True)[0][1] / np.var(a)\n",
    "    intercept = np.mean(b) - (slope * np.mean(a))\n",
    "    predictions = (slope * a) + intercept\n",
    "    residuals = b - predictions\n",
    "    return slope, intercept, predictions, residuals\n",
    "\n",
    "# This function will help evaluate the intervals when we reach Confidence Intervals and Predication Intervals part\n",
    "\n",
    "def get_intervals(a, b, residuals):\n",
    "    t = stats.t(df=len(a) - 2).ppf(0.975)\n",
    "    s_err = np.sum(np.power(residuals, 2))\n",
    "    confidence_interval = t * np.sqrt((s_err/(len(a) - 2))*(1/len(a) + (np.power((a - a.mean()), 2)/((np.sum(np.power(a,2))) - len(full_df)*(np.power(a.mean(),2))))))\n",
    "    prediction_interval = t * (np.std(residuals))\n",
    "    return abs(confidence_interval), prediction_interval"
   ]
  },
  {
   "cell_type": "markdown",
   "metadata": {},
   "source": [
    "### 1. `happiness_score` vs `gdp_per_capita`"
   ]
  },
  {
   "cell_type": "code",
   "execution_count": 50,
   "metadata": {},
   "outputs": [],
   "source": [
    "slope, intercept, predictions, residuals = evaluate_linear_relationship(full_df[\"gdp_per_capita\"], full_df['happiness_score'])"
   ]
  },
  {
   "cell_type": "code",
   "execution_count": 51,
   "metadata": {},
   "outputs": [
    {
     "name": "stdout",
     "output_type": "stream",
     "text": [
      "Slope is  0.7709509994660471\n",
      "Interscept is -1.7461801855523147\n"
     ]
    }
   ],
   "source": [
    "print(\"Slope is \", slope)\n",
    "print(\"Interscept is\", intercept)"
   ]
  },
  {
   "cell_type": "code",
   "execution_count": 52,
   "metadata": {},
   "outputs": [
    {
     "data": {
      "text/plain": [
       "Text(0.5, 0.92, 'Relationship between GDP and World Happiness')"
      ]
     },
     "execution_count": 52,
     "metadata": {},
     "output_type": "execute_result"
    },
    {
     "data": {
      "image/png": "[encoded data removed]",
      "text/plain": [
       "<Figure size 1080x720 with 1 Axes>"
      ]
     },
     "metadata": {
      "needs_background": "light"
     },
     "output_type": "display_data"
    }
   ],
   "source": [
    "fig = plt.figure(figsize=(15,10))\n",
    "plt.scatter(full_df[\"gdp_per_capita\"],full_df['happiness_score'])\n",
    "sorted_order = np.argsort(full_df[\"gdp_per_capita\"])\n",
    "plt.plot(full_df[\"gdp_per_capita\"][sorted_order], predictions[sorted_order])\n",
    "plt.ylabel(\"Happiness Score\")\n",
    "plt.xlabel('GDP Per Capita')\n",
    "fig.suptitle(\"Relationship between GDP and World Happiness\", fontsize=15, y=0.92)\n"
   ]
  },
  {
   "cell_type": "markdown",
   "metadata": {},
   "source": [
    "A positive linear relationship is observed between World Happiness and GDP per capita\n",
    "The Slope tells us that for every one unit increase in GDP, there is an increase of 0.770 in the happiness score"
   ]
  },
  {
   "cell_type": "code",
   "execution_count": 53,
   "metadata": {},
   "outputs": [
    {
     "data": {
      "text/plain": [
       "Text(0.5, 0.92, 'Relationship between GDP and World Happiness')"
      ]
     },
     "execution_count": 53,
     "metadata": {},
     "output_type": "execute_result"
    },
    {
     "data": {
      "image/png": "[encoded data removed]",
      "text/plain": [
       "<Figure size 1080x720 with 1 Axes>"
      ]
     },
     "metadata": {
      "needs_background": "light"
     },
     "output_type": "display_data"
    }
   ],
   "source": [
    "fig = plt.figure(figsize=(15,10))\n",
    "plt.scatter(full_df[\"gdp_per_capita\"], residuals)\n",
    "sorted_order = np.argsort(full_df[\"gdp_per_capita\"])\n",
    "plt.plot([full_df[\"gdp_per_capita\"].min(), full_df[\"gdp_per_capita\"].max()], [0,0], linestyle='dotted')\n",
    "plt.xlabel('GDP Per Capita')\n",
    "plt.ylabel('Happiness Score')\n",
    "fig.suptitle('Relationship between GDP and World Happiness', fontsize=15, y=0.92)"
   ]
  },
  {
   "cell_type": "markdown",
   "metadata": {},
   "source": [
    "#### R-squared Value"
   ]
  },
  {
   "cell_type": "code",
   "execution_count": 54,
   "metadata": {},
   "outputs": [
    {
     "data": {
      "text/plain": [
       "0.5943654435776968"
      ]
     },
     "execution_count": 54,
     "metadata": {},
     "output_type": "execute_result"
    }
   ],
   "source": [
    "np.var(predictions) / np.var(full_df[\"gdp_per_capita\"])"
   ]
  },
  {
   "cell_type": "markdown",
   "metadata": {},
   "source": [
    "#### Analysis"
   ]
  },
  {
   "cell_type": "markdown",
   "metadata": {},
   "source": [
    "There is an R-squared value of 59.43% here depicts 59.43% of the variation in the Happiness Score is accounted for by its regression on GDP per capita."
   ]
  },
  {
   "cell_type": "markdown",
   "metadata": {},
   "source": [
    "#### Confidence Intervals and Predication Intervals\n"
   ]
  },
  {
   "cell_type": "code",
   "execution_count": 57,
   "metadata": {
    "scrolled": true
   },
   "outputs": [
    {
     "data": {
      "text/plain": [
       "Text(0.5, 0.92, 'World Happiness')"
      ]
     },
     "execution_count": 57,
     "metadata": {},
     "output_type": "execute_result"
    },
    {
     "data": {
      "image/png": "[encoded data removed]",
      "text/plain": [
       "<Figure size 1080x720 with 1 Axes>"
      ]
     },
     "metadata": {
      "needs_background": "light"
     },
     "output_type": "display_data"
    }
   ],
   "source": [
    "ci, pi = get_intervals(full_df[\"gdp_per_capita\"], full_df[\"happiness_score\"], residuals)\n",
    "fig = plt.figure(figsize=(15,10))\n",
    "plt.scatter(full_df[\"gdp_per_capita\"],full_df[\"happiness_score\"])\n",
    "sorted_order = np.argsort(full_df[\"gdp_per_capita\"])\n",
    "plt.plot(full_df[\"gdp_per_capita\"][sorted_order], predictions[sorted_order], label='Regression Line')\n",
    "plt.plot(full_df[\"gdp_per_capita\"][sorted_order], (predictions + ci)[sorted_order], color='orange', label='Confidence Interval')\n",
    "plt.plot(full_df[\"gdp_per_capita\"][sorted_order], (predictions - ci)[sorted_order], color='orange', label='_Confidence Interval')\n",
    "plt.plot(full_df[\"gdp_per_capita\"][sorted_order], (predictions + pi)[sorted_order], color='red', label='Prediction Interval', linestyle='dotted')\n",
    "plt.plot(full_df[\"gdp_per_capita\"][sorted_order], (predictions - pi)[sorted_order], color='red', label='_Prediction Interval', linestyle='dotted')\n",
    "plt.xlabel('GDP Per Capita')\n",
    "plt.ylabel('Happiness Score')\n",
    "plt.legend()\n",
    "fig.suptitle('World Happiness', fontsize=15, y=0.92)"
   ]
  },
  {
   "cell_type": "markdown",
   "metadata": {},
   "source": [
    "### Observation:\n",
    "\n",
    "The orange lines are the 95% confidence interval of where the mean Y value for a given X value will lay, and the red lines are the 95% confidence interval of where a new Y value for a given X value could land. Most of the observed points are between the red lines - as 95% of them should be."
   ]
  },
  {
   "cell_type": "markdown",
   "metadata": {},
   "source": [
    "***"
   ]
  },
  {
   "cell_type": "markdown",
   "metadata": {},
   "source": [
    "### 2. `happiness_score` vs `social_support`"
   ]
  },
  {
   "cell_type": "code",
   "execution_count": null,
   "metadata": {},
   "outputs": [],
   "source": []
  },
  {
   "cell_type": "code",
   "execution_count": 25,
   "metadata": {},
   "outputs": [
    {
     "name": "stdout",
     "output_type": "stream",
     "text": [
      "The r-value is: 0.6107835206369228\n",
      "The p-value is: 4.5657185832058826e-30\n"
     ]
    },
    {
     "data": {
      "image/png": "[encoded data removed]",
      "text/plain": [
       "<Figure size 1080x720 with 1 Axes>"
      ]
     },
     "metadata": {
      "needs_background": "light"
     },
     "output_type": "display_data"
    }
   ],
   "source": [
    "# Linear regression X and Y axis\n",
    "x = full_df[\"social_support\"]\n",
    "y = full_df[\"happiness_score\"]\n",
    "\n",
    "# Perform a linear regression\n",
    "(slope, intercept, rvalue, pvalue, stderr) = stats.linregress(x, y)\n",
    "\n",
    "# Get regression values and find \n",
    "regression_values = x * slope + intercept\n",
    "line_eq = \"y = \" + str(round(slope,2)) + \"x + \" + str(round(intercept,2))\n",
    "\n",
    "correlation = stats.pearsonr(x, y)\n",
    "\n",
    "# Create The Plot\n",
    "plt.figure(figsize=(15,10))\n",
    "plt.scatter(x,y)\n",
    "plt.plot(x,regression_values,\"r-\")\n",
    "\n",
    "# label plot \n",
    "plt.xlabel(\"Social Support\")\n",
    "plt.ylabel(\"Happiness Score\")\n",
    "plt.title('Happiness Score by Social Support')\n",
    "\n",
    "# Print r value\n",
    "print(f\"The r-value is: {rvalue**2}\")\n",
    "print(f\"The p-value is: {pvalue}\")\n",
    "\n",
    "\n",
    "\n",
    "# Show plot\n",
    "plt.show()"
   ]
  },
  {
   "cell_type": "code",
   "execution_count": null,
   "metadata": {},
   "outputs": [],
   "source": []
  },
  {
   "cell_type": "code",
   "execution_count": null,
   "metadata": {},
   "outputs": [],
   "source": []
  },
  {
   "cell_type": "code",
   "execution_count": null,
   "metadata": {},
   "outputs": [],
   "source": []
  },
  {
   "cell_type": "markdown",
   "metadata": {},
   "source": [
    "### 3. `happiness_score` vs `life_expectancy`"
   ]
  },
  {
   "cell_type": "code",
   "execution_count": null,
   "metadata": {},
   "outputs": [],
   "source": []
  },
  {
   "cell_type": "code",
   "execution_count": null,
   "metadata": {},
   "outputs": [],
   "source": [
    "# Linear regression X and Y axis\n",
    "x = full_df[\"life_expectancy\"]\n",
    "y = full_df[\"happiness_score\"]\n",
    "\n",
    "#Linear regression \n",
    "(slope, intercept, rvalue, pvalue, stderr) = stats.linregress(x, y)\n",
    "\n",
    "# Get regression values and find \n",
    "regression_values = x * slope + intercept\n",
    "line_eq = \"y = \" + str(round(slope,2)) + \"x + \" + str(round(intercept,2))\n",
    "\n",
    "correlation = stats.pearsonr(x, y)\n",
    "\n",
    "# Create Plot\n",
    "plt.figure(figsize=(15,10))\n",
    "plt.scatter(x,y)\n",
    "plt.plot(x,regression_values,\"r-\")\n",
    "\n",
    "# label plot \n",
    "plt.xlabel(\"Life Expectancy\")\n",
    "plt.ylabel(\"Happiness Score\")\n",
    "plt.title('Happiness Score by Life Expectancy')\n",
    "\n",
    "# Print r value\n",
    "print(f\"The r-value is: {rvalue**2}\")\n",
    "print(f\"The p-value is: {pvalue}\")\n",
    "\n",
    "# Show plot\n",
    "plt.show()"
   ]
  },
  {
   "cell_type": "code",
   "execution_count": null,
   "metadata": {},
   "outputs": [],
   "source": []
  },
  {
   "cell_type": "code",
   "execution_count": null,
   "metadata": {},
   "outputs": [],
   "source": []
  },
  {
   "cell_type": "code",
   "execution_count": null,
   "metadata": {},
   "outputs": [],
   "source": []
  },
  {
   "cell_type": "markdown",
   "metadata": {},
   "source": [
    "### 4. `happiness_score` vs `freedom`"
   ]
  },
  {
   "cell_type": "code",
   "execution_count": null,
   "metadata": {},
   "outputs": [],
   "source": []
  },
  {
   "cell_type": "code",
   "execution_count": null,
   "metadata": {},
   "outputs": [],
   "source": [
    "# Linear regression X and Y axis\n",
    "x = full_df[\"freedom\"]\n",
    "y = full_df[\"happiness_score\"]\n",
    "\n",
    "#Linear regression \n",
    "(slope, intercept, rvalue, pvalue, stderr) = stats.linregress(x, y)\n",
    "\n",
    "# Get regression values and find \n",
    "regression_values = x * slope + intercept\n",
    "line_eq = \"y = \" + str(round(slope,2)) + \"x + \" + str(round(intercept,2))\n",
    "\n",
    "correlation = stats.pearsonr(x, y)\n",
    "\n",
    "# Create Plot\n",
    "plt.figure(figsize=(15,10))\n",
    "plt.scatter(x,y)\n",
    "plt.plot(x,regression_values,\"r-\")\n",
    "\n",
    "# label plot \n",
    "plt.xlabel(\"Freedom\")\n",
    "plt.ylabel(\"Happiness Score\")\n",
    "plt.title('Happiness Score by Freedom')\n",
    "\n",
    "# Print r value\n",
    "print(f\"The r-value is: {rvalue**2}\")\n",
    "print(f\"The p-value is: {pvalue}\")\n",
    "\n",
    "# Show plot\n",
    "plt.show()"
   ]
  },
  {
   "cell_type": "code",
   "execution_count": null,
   "metadata": {},
   "outputs": [],
   "source": []
  },
  {
   "cell_type": "code",
   "execution_count": null,
   "metadata": {},
   "outputs": [],
   "source": []
  },
  {
   "cell_type": "code",
   "execution_count": null,
   "metadata": {},
   "outputs": [],
   "source": []
  },
  {
   "cell_type": "markdown",
   "metadata": {},
   "source": [
    "### 5. `happiness_score` vs `corruption`"
   ]
  },
  {
   "cell_type": "code",
   "execution_count": null,
   "metadata": {},
   "outputs": [],
   "source": []
  },
  {
   "cell_type": "code",
   "execution_count": null,
   "metadata": {},
   "outputs": [],
   "source": [
    "# Linear regression X and Y axis\n",
    "x = full_df[\"corruption\"]\n",
    "y = full_df[\"happiness_score\"]\n",
    "\n",
    "#Linear regression \n",
    "(slope, intercept, rvalue, pvalue, stderr) = stats.linregress(x, y)\n",
    "\n",
    "# Get regression values and find \n",
    "regression_values = x * slope + intercept\n",
    "line_eq = \"y = \" + str(round(slope,2)) + \"x + \" + str(round(intercept,2))\n",
    "\n",
    "correlation = stats.pearsonr(x, y)\n",
    "\n",
    "# Create Plot\n",
    "plt.figure(figsize=(15,10))\n",
    "plt.scatter(x,y)\n",
    "plt.plot(x,regression_values,\"r-\")\n",
    "\n",
    "# label plot \n",
    "plt.xlabel(\"corruption\")\n",
    "plt.ylabel(\"Happiness Score\")\n",
    "plt.title('Happiness Score by Corruption')\n",
    "\n",
    "# Print r value\n",
    "print(f\"The r-value is: {rvalue**2}\")\n",
    "print(f\"The p-value is: {pvalue}\")\n",
    "\n",
    "# Show plot\n",
    "plt.show()"
   ]
  },
  {
   "cell_type": "code",
   "execution_count": null,
   "metadata": {},
   "outputs": [],
   "source": []
  },
  {
   "cell_type": "code",
   "execution_count": null,
   "metadata": {},
   "outputs": [],
   "source": []
  },
  {
   "cell_type": "code",
   "execution_count": null,
   "metadata": {},
   "outputs": [],
   "source": []
  },
  {
   "cell_type": "markdown",
   "metadata": {},
   "source": [
    "### 6. `happiness_score` vs `clean_water_per_100_people` "
   ]
  },
  {
   "cell_type": "code",
   "execution_count": null,
   "metadata": {},
   "outputs": [],
   "source": []
  },
  {
   "cell_type": "code",
   "execution_count": null,
   "metadata": {},
   "outputs": [],
   "source": [
    "# Linear regression X and Y axis\n",
    "x = full_df[\"clean_water_per_100_people\"]\n",
    "y = full_df[\"happiness_score\"]\n",
    "\n",
    "#Linear regression \n",
    "(slope, intercept, rvalue, pvalue, stderr) = stats.linregress(x, y)\n",
    "\n",
    "# Get regression values and find \n",
    "regression_values = x * slope + intercept\n",
    "line_eq = \"y = \" + str(round(slope,2)) + \"x + \" + str(round(intercept,2))\n",
    "\n",
    "correlation = stats.pearsonr(x, y)\n",
    "\n",
    "# Create Plot\n",
    "plt.figure(figsize=(15,10))\n",
    "plt.scatter(x,y)\n",
    "plt.plot(x,regression_values,\"r-\")\n",
    "\n",
    "# label plot \n",
    "plt.xlabel(\"Clean water per 100 people\")\n",
    "plt.ylabel(\"Happiness Score\")\n",
    "plt.title('Happiness Score by Clean water per 100 people')\n",
    "\n",
    "# Print r value\n",
    "print(f\"The r-value is: {rvalue**2}\")\n",
    "print(f\"The p-value is: {pvalue}\")\n",
    "\n",
    "# Show plot\n",
    "plt.show()"
   ]
  },
  {
   "cell_type": "code",
   "execution_count": null,
   "metadata": {},
   "outputs": [],
   "source": []
  },
  {
   "cell_type": "code",
   "execution_count": null,
   "metadata": {},
   "outputs": [],
   "source": []
  },
  {
   "cell_type": "code",
   "execution_count": null,
   "metadata": {},
   "outputs": [],
   "source": []
  },
  {
   "cell_type": "code",
   "execution_count": null,
   "metadata": {},
   "outputs": [],
   "source": []
  },
  {
   "cell_type": "markdown",
   "metadata": {},
   "source": [
    "### 7. `happiness_score` vs `suicide_rate_per_100000_people`"
   ]
  },
  {
   "cell_type": "code",
   "execution_count": null,
   "metadata": {},
   "outputs": [],
   "source": []
  },
  {
   "cell_type": "code",
   "execution_count": null,
   "metadata": {},
   "outputs": [],
   "source": [
    "# Linear regression X and Y axis\n",
    "x = full_df[\"suicide_rate_per_100000_people\"]\n",
    "y = full_df[\"happiness_score\"]\n",
    "\n",
    "#Linear regression \n",
    "(slope, intercept, rvalue, pvalue, stderr) = stats.linregress(x, y)\n",
    "\n",
    "# Get regression values and find \n",
    "regression_values = x * slope + intercept\n",
    "line_eq = \"y = \" + str(round(slope,2)) + \"x + \" + str(round(intercept,2))\n",
    "\n",
    "correlation = stats.pearsonr(x, y)\n",
    "\n",
    "# Create Plot\n",
    "plt.figure(figsize=(15,10))\n",
    "plt.scatter(x,y)\n",
    "plt.plot(x,regression_values,\"r-\")\n",
    "\n",
    "# label plot \n",
    "plt.xlabel(\"Suicide Rate per 100000 people\")\n",
    "plt.ylabel(\"Happiness Score\")\n",
    "plt.title('Happiness Score by suicide rate per 100000 people')\n",
    "\n",
    "# Print r value\n",
    "print(f\"The r-value is: {rvalue**2}\")\n",
    "print(f\"The p-value is: {pvalue}\")\n",
    "\n",
    "# Show plot\n",
    "plt.show()"
   ]
  },
  {
   "cell_type": "code",
   "execution_count": null,
   "metadata": {},
   "outputs": [],
   "source": []
  },
  {
   "cell_type": "code",
   "execution_count": null,
   "metadata": {},
   "outputs": [],
   "source": []
  },
  {
   "cell_type": "code",
   "execution_count": null,
   "metadata": {},
   "outputs": [],
   "source": []
  },
  {
   "cell_type": "code",
   "execution_count": null,
   "metadata": {},
   "outputs": [],
   "source": []
  },
  {
   "cell_type": "markdown",
   "metadata": {},
   "source": [
    "### 8. `happiness_score` vs `doctors_per_10000_people`"
   ]
  },
  {
   "cell_type": "code",
   "execution_count": null,
   "metadata": {},
   "outputs": [],
   "source": []
  },
  {
   "cell_type": "code",
   "execution_count": null,
   "metadata": {
    "scrolled": true
   },
   "outputs": [],
   "source": [
    "# Linear regression X and Y axis\n",
    "x = full_df[\"doctors_per_10000_people\"]\n",
    "y = full_df[\"happiness_score\"]\n",
    "\n",
    "#Linear regression \n",
    "(slope, intercept, rvalue, pvalue, stderr) = stats.linregress(x, y)\n",
    "\n",
    "# Get regression values and find \n",
    "regression_values = x * slope + intercept\n",
    "line_eq = \"y = \" + str(round(slope,2)) + \"x + \" + str(round(intercept,2))\n",
    "\n",
    "correlation = stats.pearsonr(x, y)\n",
    "\n",
    "# Create Plot\n",
    "plt.figure(figsize=(15,10))\n",
    "plt.scatter(x,y)\n",
    "plt.plot(x,regression_values,\"r-\")\n",
    "\n",
    "# label plot \n",
    "plt.xlabel(\"doctors per 10000 people\")\n",
    "plt.ylabel(\"Happiness Score\")\n",
    "plt.title('Happiness Score by doctors per 10000 people')\n",
    "\n",
    "# Print r value\n",
    "print(f\"The r-value is: {rvalue**2}\")\n",
    "print(f\"The p-value is: {pvalue}\")\n",
    "\n",
    "# Show plot\n",
    "plt.show()"
   ]
  },
  {
   "cell_type": "code",
   "execution_count": null,
   "metadata": {},
   "outputs": [],
   "source": []
  }
 ],
 "metadata": {
  "kernelspec": {
   "display_name": "Python 3",
   "language": "python",
   "name": "python3"
  },
  "language_info": {
   "codemirror_mode": {
    "name": "ipython",
    "version": 3
   },
   "file_extension": ".py",
   "mimetype": "text/x-python",
   "name": "python",
   "nbconvert_exporter": "python",
   "pygments_lexer": "ipython3",
   "version": "3.7.9"
  }
 },
 "nbformat": 4,
 "nbformat_minor": 5
}
